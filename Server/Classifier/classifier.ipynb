{
 "cells": [
  {
   "cell_type": "markdown",
   "metadata": {
    "id": "u6jXb-xxL0ok"
   },
   "source": [
    "\n",
    "# **<center>From: https://learnopencv.com/introduction-to-video-classification-and-human-activity-recognition/</center>**\n",
    "\n",
    "# **<center>Introduction to Video Classification & Human Activity Recognition</center>**\n",
    "\n",
    "\n",
    "\n",
    "\n",
    "---\n",
    "\n",
    "\n",
    "\n",
    "---\n",
    "\n",
    "\n",
    "\n",
    "**Here are the steps we will perform:**\n",
    "\n",
    "- **Step 1: Download and Extract the Dataset**\n",
    "- **Step 2: Visualize the Data with its Labels**\n",
    "- **Step 3: Read and Preprocess the Dataset**\n",
    "- **Step 4: Split the Data into Train and Test Set**\n",
    "- **Step 5: Construct the Model**\n",
    "- **Step 6: Compile & Train the Model**\n",
    "- **Step 7: Plot Model’s Loss & Accuracy Curves**\n",
    "- **Step 8: Make Predictions with the Model**\n",
    "- **Step 9: Using Single-Frame CNN Method**"
   ]
  },
  {
   "cell_type": "markdown",
   "metadata": {
    "id": "RiAMJx7tr5-I"
   },
   "source": [
    "#### **Import Required Libraries:**\n",
    "Start by importing all required libraries."
   ]
  },
  {
   "cell_type": "code",
   "execution_count": 1,
   "metadata": {
    "id": "X3AdbpZFCRR0"
   },
   "outputs": [],
   "source": [
    "import os\n",
    "import cv2\n",
    "import math\n",
    "import random\n",
    "import numpy as np\n",
    "import datetime as dt\n",
    "import tensorflow as tf\n",
    "from collections import deque\n",
    "import matplotlib.pyplot as plt\n",
    "\n",
    "%matplotlib inline\n",
    "\n",
    "from sklearn.model_selection import train_test_split\n",
    "\n",
    "from tensorflow.keras.layers import *\n",
    "from tensorflow.keras.models import Sequential\n",
    "from tensorflow.keras.utils import to_categorical\n",
    "from tensorflow.keras.callbacks import EarlyStopping\n",
    "from tensorflow.keras.utils import plot_model"
   ]
  },
  {
   "cell_type": "markdown",
   "metadata": {
    "id": "jT1dZY7cD3Ro"
   },
   "source": [
    "**Set Numpy, Python & Tensorflow seeds to get consistent results.**"
   ]
  },
  {
   "cell_type": "code",
   "execution_count": 3,
   "metadata": {
    "id": "3pEI_v7HD1WV"
   },
   "outputs": [],
   "source": [
    "seed_constant = 23\n",
    "np.random.seed(seed_constant)\n",
    "random.seed(seed_constant)\n",
    "tf.random.set_seed(seed_constant)"
   ]
  },
  {
   "cell_type": "markdown",
   "metadata": {
    "id": "HBBdZ02OrCQa"
   },
   "source": [
    "\n"
   ]
  },
  {
   "cell_type": "markdown",
   "metadata": {
    "id": "35mPPJndwgVC"
   },
   "source": [
    "## **Step 1: Read & Preprocess the Dataset**\n",
    "\n",
    "Since we're going to use a classification architecture to train on a video classification dataset, we're goiing to need to preprocess the dataset first.\n",
    "\n",
    "Now w constants, \n",
    "- **`image_height`** and **`image_weight`**: This is the size we will resize all frames of the video to, we're doing this to avoid unneccsary computation.\n",
    "\n",
    "- **`max_images_per_class`**: Maximum number of training images allowed for each class.\n",
    "\n",
    "- **`dataset_directory`**: The path of the directory containing the extracted dataset. \n",
    "\n",
    "- **`classes_list`**: These are the list of classes we're going to be training on, we're traninng on following 4 classes, you can feel free to change it. \n",
    "  - *clap*\n",
    "  - *wave*\n",
    "  - *mind_blown*\n",
    "\n",
    "**Note:** The `image_height`, `image_weight` and `max_images_per_class` constants may be increased for better results, but be warned this will become computationally expensive."
   ]
  },
  {
   "cell_type": "code",
   "execution_count": 5,
   "metadata": {
    "id": "gb4Fv7Ag-kwb"
   },
   "outputs": [],
   "source": [
    "image_height, image_width = 64, 64\n",
    "max_images_per_class = 5000\n",
    "\n",
    "dataset_directory = \"pepper_data\"\n",
    "classes_list = [\"clap\", \"wave\", 'mind_blown']\n",
    "\n",
    "model_output_size = len(classes_list)"
   ]
  },
  {
   "cell_type": "markdown",
   "metadata": {
    "id": "_v6w2EzbvhRg"
   },
   "source": [
    "### **Extract, Resize & Normalize Frames**\n",
    "\n",
    "\n",
    "Now we'll create a function that will extract frames from each video while performing other preprocessing operation like resizing and normalizing images. \n",
    "\n",
    "This method takes a video file path as input. It then reads the video file frame by frame, resizes each frame, normalizes the resized frame, appends the normalized frame into a list and then finally returns that list."
   ]
  },
  {
   "cell_type": "code",
   "execution_count": 6,
   "metadata": {
    "id": "zBu224OG-szz"
   },
   "outputs": [],
   "source": [
    "def frames_extraction(video_path):\n",
    "    # Empty List declared to store video frames\n",
    "    frames_list = []\n",
    "    \n",
    "    # Reading the Video File Using the VideoCapture\n",
    "    video_reader = cv2.VideoCapture(video_path)\n",
    "\n",
    "    # Iterating through Video Frames\n",
    "    while True:\n",
    "\n",
    "        # Reading a frame from the video file \n",
    "        success, frame = video_reader.read() \n",
    "\n",
    "        # If Video frame was not successfully read then break the loop\n",
    "        if not success:\n",
    "            break\n",
    "\n",
    "        # Resize the Frame to fixed Dimensions\n",
    "        resized_frame = cv2.resize(frame, (image_height, image_width))\n",
    "        \n",
    "        # Normalize the resized frame by dividing it with 255 so that each pixel value then lies between 0 and 1\n",
    "        normalized_frame = resized_frame / 255\n",
    "        \n",
    "        # Appending the normalized frame into the frames list\n",
    "        frames_list.append(normalized_frame)\n",
    "    \n",
    "    # Closing the VideoCapture object and releasing all resources. \n",
    "    video_reader.release()\n",
    "\n",
    "    # returning the frames list \n",
    "    return frames_list"
   ]
  },
  {
   "cell_type": "markdown",
   "metadata": {
    "id": "fL6Y0VupxLom"
   },
   "source": [
    "### **Dataset Creation**\n",
    "Now we'll create another function called  **`create_dataset()`**,  this function uses the **`frame_extraction()`** funciton above and creates our final preprocessed dataset. \n",
    "\n",
    "**Here's how this function works:**\n",
    "\n",
    "1.   Iterate through all the classes mentioned in the `classes_list`\n",
    "2.   Now for each class iterate through all the video files present in it. \n",
    "3.   Call the **frame_extraction** method on each video file.\n",
    "4.   Add the returned frames to a list called `temp_features`\n",
    "5.   After all videos of a class are processed, randomly select video frames (equal to **max_images_per_class**) and add them to the list called `features`.\n",
    "6.   Add labels of the selected videos to the labels list.\n",
    "7.   After all videos of all classes are processed then return the features and labels as numpy arrays.\n",
    "\n",
    "\n",
    "So when you call this function, it returns **2** lists:\n",
    "- a list of feature vectors \n",
    "- a list of it's associated labels.\n"
   ]
  },
  {
   "cell_type": "code",
   "execution_count": 7,
   "metadata": {
    "id": "j6MLp9PpDJ4-"
   },
   "outputs": [],
   "source": [
    "def create_dataset():\n",
    "\n",
    "    # Declaring Empty Lists to store the features and labels values.\n",
    "    temp_features = [] \n",
    "    features = []\n",
    "    labels = []\n",
    "    \n",
    "    # Iterating through all the classes mentioned in the classes list\n",
    "    for class_index, class_name in enumerate(classes_list):\n",
    "        print(f'Extracting Data of Class: {class_name}')\n",
    "        \n",
    "        # Getting the list of video files present in the specific class name directory\n",
    "        files_list = os.listdir(os.path.join(dataset_directory, class_name))\n",
    "\n",
    "        # Iterating through all the files present in the files list\n",
    "        for file_name in files_list:\n",
    "\n",
    "            # Construct the complete video path\n",
    "            video_file_path = os.path.join(dataset_directory, class_name, file_name)\n",
    "\n",
    "            # Calling the frame_extraction method for every video file path\n",
    "            frames = frames_extraction(video_file_path)\n",
    "\n",
    "            # Appending the frames to a temporary list.\n",
    "            temp_features.extend(frames)\n",
    "        \n",
    "        # Adding randomly selected frames to the features list\n",
    "        features.extend(random.sample(temp_features, max_images_per_class))\n",
    "\n",
    "        # Adding Fixed number of labels to the labels list\n",
    "        labels.extend([class_index] * max_images_per_class)\n",
    "        \n",
    "        # Emptying the temp_features list so it can be reused to store all frames of the next class.\n",
    "        temp_features.clear()\n",
    "\n",
    "    # Converting the features and labels lists to numpy arrays\n",
    "    features = np.asarray(features)\n",
    "    labels = np.array(labels)  \n",
    "\n",
    "    return features, labels"
   ]
  },
  {
   "cell_type": "markdown",
   "metadata": {
    "id": "3jNu1QTX0G0q"
   },
   "source": [
    "Calling the **create_dataset** method which returns features and labels."
   ]
  },
  {
   "cell_type": "code",
   "execution_count": 8,
   "metadata": {
    "colab": {
     "base_uri": "https://localhost:8080/"
    },
    "id": "ckAYgSriJN_R",
    "outputId": "b787e183-66af-4fdc-b494-49c2fdbcee59"
   },
   "outputs": [
    {
     "name": "stdout",
     "output_type": "stream",
     "text": [
      "Extracting Data of Class: clap\n",
      "Extracting Data of Class: left_hand\n",
      "Extracting Data of Class: right_hand\n",
      "Extracting Data of Class: mind_blown\n"
     ]
    }
   ],
   "source": [
    "features, labels = create_dataset()"
   ]
  },
  {
   "cell_type": "markdown",
   "metadata": {
    "id": "goRGrc8_0Usb"
   },
   "source": [
    "Now we will convert class labels to one hot encoded vectors."
   ]
  },
  {
   "cell_type": "code",
   "execution_count": 9,
   "metadata": {
    "id": "KfcpuV6_Bd_T"
   },
   "outputs": [],
   "source": [
    "# Using Keras's to_categorical method to convert labels into one-hot-encoded vectors\n",
    "one_hot_encoded_labels = to_categorical(labels)"
   ]
  },
  {
   "cell_type": "markdown",
   "metadata": {
    "id": "PzRt7pP-0j5V"
   },
   "source": [
    "## **Step 2: Split the Data into Train and Test Set**\n",
    "Now we have 2 numpy arrays, one containing all images, the second one contains all class labels in one hot encoded format. Let’s split our data to create a training and a testing set. It’s important that you shuffle your data before the split which we have already done.\n"
   ]
  },
  {
   "cell_type": "code",
   "execution_count": 10,
   "metadata": {
    "id": "UhkQjq1JJSO2"
   },
   "outputs": [],
   "source": [
    "features_train, features_test, labels_train, labels_test = train_test_split(features, one_hot_encoded_labels, test_size = 0.2, stratify=one_hot_encoded_labels,shuffle = True, random_state = seed_constant)"
   ]
  },
  {
   "cell_type": "markdown",
   "metadata": {
    "id": "x8Ui5hLP1P9Q"
   },
   "source": [
    "## **Step 3: Construct the Model**\n",
    "Now it’s time to create our CNN model, for this post, we're c reating a simple CNN Classification model with two CNN layers."
   ]
  },
  {
   "cell_type": "code",
   "execution_count": 11,
   "metadata": {
    "colab": {
     "base_uri": "https://localhost:8080/"
    },
    "id": "h8cDSpfXJXwx",
    "outputId": "7a93fc19-2943-4272-e2f8-f4169fab5ce8"
   },
   "outputs": [
    {
     "name": "stdout",
     "output_type": "stream",
     "text": [
      "Model: \"sequential\"\n",
      "_________________________________________________________________\n",
      " Layer (type)                Output Shape              Param #   \n",
      "=================================================================\n",
      " conv2d (Conv2D)             (None, 62, 62, 128)       3584      \n",
      "                                                                 \n",
      " conv2d_1 (Conv2D)           (None, 60, 60, 128)       147584    \n",
      "                                                                 \n",
      " batch_normalization (BatchN  (None, 60, 60, 128)      512       \n",
      " ormalization)                                                   \n",
      "                                                                 \n",
      " max_pooling2d (MaxPooling2D  (None, 30, 30, 128)      0         \n",
      " )                                                               \n",
      "                                                                 \n",
      " global_average_pooling2d (G  (None, 128)              0         \n",
      " lobalAveragePooling2D)                                          \n",
      "                                                                 \n",
      " dense (Dense)               (None, 256)               33024     \n",
      "                                                                 \n",
      " batch_normalization_1 (Batc  (None, 256)              1024      \n",
      " hNormalization)                                                 \n",
      "                                                                 \n",
      " dense_1 (Dense)             (None, 4)                 1028      \n",
      "                                                                 \n",
      "=================================================================\n",
      "Total params: 186,756\n",
      "Trainable params: 185,988\n",
      "Non-trainable params: 768\n",
      "_________________________________________________________________\n",
      "Model Created Successfully!\n"
     ]
    }
   ],
   "source": [
    "# Let's create a function that will construct our model\n",
    "def create_model():\n",
    "\n",
    "    # We will use a Sequential model for model construction\n",
    "    model = Sequential()\n",
    "\n",
    "    # Defining The Model Architecture\n",
    "    model.add(Conv2D(filters = 128, kernel_size = (3, 3), activation = 'relu', input_shape = (image_height, image_width, 3)))\n",
    "    model.add(Conv2D(filters = 128, kernel_size = (3, 3), activation = 'relu'))\n",
    "    model.add(BatchNormalization())\n",
    "    model.add(MaxPooling2D(pool_size = (2, 2)))\n",
    "    model.add(GlobalAveragePooling2D())\n",
    "    model.add(Dense(256, activation = 'relu'))\n",
    "    model.add(BatchNormalization())\n",
    "    model.add(Dense(model_output_size, activation = 'softmax'))\n",
    "\n",
    "    # Printing the models summary\n",
    "    model.summary()\n",
    "\n",
    "    return model\n",
    "\n",
    "\n",
    "# Calling the create_model method\n",
    "model = create_model()\n",
    "\n",
    "print(\"Model Created Successfully!\")"
   ]
  },
  {
   "cell_type": "markdown",
   "metadata": {
    "id": "OOGUT5DbK7Sr"
   },
   "source": [
    "### **Check Model’s Structure:**\n",
    "Using the **plot_model** function you can check the structure of the final model, this is really helpful when you’re creating a complex network and you want to make sure you have constructed the network correctly."
   ]
  },
  {
   "cell_type": "code",
   "execution_count": 12,
   "metadata": {
    "colab": {
     "base_uri": "https://localhost:8080/",
     "height": 976
    },
    "id": "hbSK_rKUK-xQ",
    "outputId": "c47c49e7-0f9d-4117-deab-0db8c9b71f16"
   },
   "outputs": [
    {
     "name": "stdout",
     "output_type": "stream",
     "text": [
      "You must install pydot (`pip install pydot`) and install graphviz (see instructions at https://graphviz.gitlab.io/download/) for plot_model/model_to_dot to work.\n"
     ]
    }
   ],
   "source": [
    "plot_model(model, to_file = 'model_structure_plot.png', show_shapes = True, show_layer_names = True)"
   ]
  },
  {
   "cell_type": "markdown",
   "metadata": {
    "id": "ZHKkZvkCOnMU"
   },
   "source": [
    "## **Step 4: Compile & Train the Model**\n",
    "\n",
    "\n",
    "Now let's start the training. Before we do that, we also need to complile the model.\n"
   ]
  },
  {
   "cell_type": "code",
   "execution_count": 13,
   "metadata": {
    "colab": {
     "background_save": true,
     "base_uri": "https://localhost:8080/"
    },
    "id": "Ju_Mq42yQhqN",
    "outputId": "26e8ce7e-30f3-49f2-dcc3-3d3048a2ec83"
   },
   "outputs": [
    {
     "name": "stdout",
     "output_type": "stream",
     "text": [
      "Epoch 1/50\n",
      "1280/1280 [==============================] - 81s 63ms/step - loss: 1.3965 - accuracy: 0.3449 - val_loss: 4.3066 - val_accuracy: 0.2430\n",
      "Epoch 2/50\n",
      "1280/1280 [==============================] - 82s 64ms/step - loss: 1.3173 - accuracy: 0.4080 - val_loss: 8.2207 - val_accuracy: 0.2719\n",
      "Epoch 3/50\n",
      "1280/1280 [==============================] - 83s 65ms/step - loss: 1.2537 - accuracy: 0.4354 - val_loss: 8.2595 - val_accuracy: 0.2477\n",
      "Epoch 4/50\n",
      "1280/1280 [==============================] - 88s 69ms/step - loss: 1.2441 - accuracy: 0.4529 - val_loss: 8.9609 - val_accuracy: 0.2484\n",
      "Epoch 5/50\n",
      "1280/1280 [==============================] - 86s 67ms/step - loss: 1.1675 - accuracy: 0.4943 - val_loss: 3.3316 - val_accuracy: 0.3672\n",
      "Epoch 6/50\n",
      "1280/1280 [==============================] - 86s 67ms/step - loss: 1.0858 - accuracy: 0.5400 - val_loss: 2.1531 - val_accuracy: 0.4062\n",
      "Epoch 7/50\n",
      "1280/1280 [==============================] - 141s 110ms/step - loss: 0.9735 - accuracy: 0.5934 - val_loss: 1.3959 - val_accuracy: 0.5531\n",
      "Epoch 8/50\n",
      "1280/1280 [==============================] - 86s 67ms/step - loss: 0.9229 - accuracy: 0.6152 - val_loss: 1.2307 - val_accuracy: 0.5969\n",
      "Epoch 9/50\n",
      "1280/1280 [==============================] - 86s 67ms/step - loss: 0.8399 - accuracy: 0.6564 - val_loss: 1.8417 - val_accuracy: 0.5289\n",
      "Epoch 10/50\n",
      "1280/1280 [==============================] - 87s 68ms/step - loss: 0.7926 - accuracy: 0.6891 - val_loss: 4.0360 - val_accuracy: 0.3633\n",
      "Epoch 11/50\n",
      "1280/1280 [==============================] - 86s 67ms/step - loss: 0.7264 - accuracy: 0.7158 - val_loss: 1.1000 - val_accuracy: 0.6680\n",
      "Epoch 12/50\n",
      "1280/1280 [==============================] - 96s 75ms/step - loss: 0.6925 - accuracy: 0.7404 - val_loss: 1.8136 - val_accuracy: 0.5453\n",
      "Epoch 13/50\n",
      "1280/1280 [==============================] - 95s 74ms/step - loss: 0.6737 - accuracy: 0.7480 - val_loss: 1.5067 - val_accuracy: 0.5453\n",
      "Epoch 14/50\n",
      "1280/1280 [==============================] - 94s 73ms/step - loss: 0.6516 - accuracy: 0.7463 - val_loss: 2.9125 - val_accuracy: 0.4109\n",
      "Epoch 15/50\n",
      "1280/1280 [==============================] - 1886s 1s/step - loss: 0.6228 - accuracy: 0.7613 - val_loss: 1.1443 - val_accuracy: 0.6773\n",
      "Epoch 16/50\n",
      "1280/1280 [==============================] - 842s 658ms/step - loss: 0.6548 - accuracy: 0.7572 - val_loss: 1.5863 - val_accuracy: 0.6430\n",
      "Epoch 17/50\n",
      "1280/1280 [==============================] - 83s 65ms/step - loss: 0.5700 - accuracy: 0.7850 - val_loss: 2.1047 - val_accuracy: 0.6047\n",
      "Epoch 18/50\n",
      "1280/1280 [==============================] - 90s 71ms/step - loss: 0.5522 - accuracy: 0.7984 - val_loss: 0.8166 - val_accuracy: 0.7219\n",
      "Epoch 19/50\n",
      "1280/1280 [==============================] - 85s 66ms/step - loss: 0.5283 - accuracy: 0.8027 - val_loss: 0.7167 - val_accuracy: 0.7906\n",
      "Epoch 20/50\n",
      "1280/1280 [==============================] - 85s 66ms/step - loss: 0.5271 - accuracy: 0.8090 - val_loss: 1.5753 - val_accuracy: 0.6094\n",
      "Epoch 21/50\n",
      "1280/1280 [==============================] - 83s 65ms/step - loss: 0.4926 - accuracy: 0.8191 - val_loss: 8.0137 - val_accuracy: 0.3281\n",
      "Epoch 22/50\n",
      "1280/1280 [==============================] - 84s 66ms/step - loss: 0.4893 - accuracy: 0.8279 - val_loss: 0.8787 - val_accuracy: 0.7937\n",
      "Epoch 23/50\n",
      "1280/1280 [==============================] - 86s 67ms/step - loss: 0.4849 - accuracy: 0.8207 - val_loss: 2.7125 - val_accuracy: 0.4883\n",
      "Epoch 24/50\n",
      "1280/1280 [==============================] - 88s 68ms/step - loss: 0.4563 - accuracy: 0.8377 - val_loss: 1.0789 - val_accuracy: 0.7227\n",
      "Epoch 25/50\n",
      "1280/1280 [==============================] - 88s 69ms/step - loss: 0.4689 - accuracy: 0.8293 - val_loss: 2.1025 - val_accuracy: 0.5672\n",
      "Epoch 26/50\n",
      "1280/1280 [==============================] - 92s 72ms/step - loss: 0.4447 - accuracy: 0.8400 - val_loss: 1.0353 - val_accuracy: 0.7539\n",
      "Epoch 27/50\n",
      "1280/1280 [==============================] - 91s 71ms/step - loss: 0.4505 - accuracy: 0.8393 - val_loss: 0.5810 - val_accuracy: 0.8336\n",
      "Epoch 28/50\n",
      "1280/1280 [==============================] - 88s 68ms/step - loss: 0.4192 - accuracy: 0.8445 - val_loss: 1.1611 - val_accuracy: 0.7250\n",
      "Epoch 29/50\n",
      "1280/1280 [==============================] - 88s 68ms/step - loss: 0.4168 - accuracy: 0.8504 - val_loss: 1.9280 - val_accuracy: 0.6219\n",
      "Epoch 30/50\n",
      "1280/1280 [==============================] - 88s 69ms/step - loss: 0.4025 - accuracy: 0.8584 - val_loss: 1.0882 - val_accuracy: 0.7219\n",
      "Epoch 31/50\n",
      "1280/1280 [==============================] - 87s 68ms/step - loss: 0.4374 - accuracy: 0.8449 - val_loss: 0.5587 - val_accuracy: 0.8430\n",
      "Epoch 32/50\n",
      "1280/1280 [==============================] - 85s 67ms/step - loss: 0.3974 - accuracy: 0.8602 - val_loss: 0.5850 - val_accuracy: 0.8336\n",
      "Epoch 33/50\n",
      "1280/1280 [==============================] - 86s 67ms/step - loss: 0.3990 - accuracy: 0.8553 - val_loss: 0.5456 - val_accuracy: 0.8680\n",
      "Epoch 34/50\n",
      "1280/1280 [==============================] - 95s 75ms/step - loss: 0.3950 - accuracy: 0.8564 - val_loss: 0.9058 - val_accuracy: 0.7844\n",
      "Epoch 35/50\n",
      "1280/1280 [==============================] - 95s 74ms/step - loss: 0.3672 - accuracy: 0.8699 - val_loss: 1.7334 - val_accuracy: 0.6297\n",
      "Epoch 36/50\n",
      "1280/1280 [==============================] - 96s 75ms/step - loss: 0.3767 - accuracy: 0.8674 - val_loss: 0.5469 - val_accuracy: 0.8750\n",
      "Epoch 37/50\n",
      "1280/1280 [==============================] - 99s 77ms/step - loss: 0.3649 - accuracy: 0.8717 - val_loss: 3.5483 - val_accuracy: 0.4938\n",
      "Epoch 38/50\n",
      "1280/1280 [==============================] - 99s 77ms/step - loss: 0.3718 - accuracy: 0.8707 - val_loss: 0.3872 - val_accuracy: 0.8992\n",
      "Epoch 39/50\n",
      "1280/1280 [==============================] - 101s 79ms/step - loss: 0.3727 - accuracy: 0.8699 - val_loss: 0.6701 - val_accuracy: 0.8008\n",
      "Epoch 40/50\n",
      "1280/1280 [==============================] - 2400s 2s/step - loss: 0.3665 - accuracy: 0.8705 - val_loss: 0.6515 - val_accuracy: 0.8305\n",
      "Epoch 41/50\n",
      "1280/1280 [==============================] - 863s 675ms/step - loss: 0.3412 - accuracy: 0.8830 - val_loss: 1.3984 - val_accuracy: 0.7617\n",
      "Epoch 42/50\n",
      "1280/1280 [==============================] - 90s 71ms/step - loss: 0.3495 - accuracy: 0.8809 - val_loss: 1.7198 - val_accuracy: 0.6023\n",
      "Epoch 43/50\n",
      "1280/1280 [==============================] - 88s 69ms/step - loss: 0.3508 - accuracy: 0.8748 - val_loss: 0.5371 - val_accuracy: 0.8484\n",
      "Epoch 44/50\n",
      "1280/1280 [==============================] - 88s 69ms/step - loss: 0.3389 - accuracy: 0.8869 - val_loss: 0.5909 - val_accuracy: 0.8469\n",
      "Epoch 45/50\n",
      "1280/1280 [==============================] - 92s 72ms/step - loss: 0.3574 - accuracy: 0.8758 - val_loss: 0.7794 - val_accuracy: 0.8406\n",
      "Epoch 46/50\n",
      "1280/1280 [==============================] - 89s 69ms/step - loss: 0.3448 - accuracy: 0.8830 - val_loss: 0.4091 - val_accuracy: 0.9039\n",
      "Epoch 47/50\n",
      "1280/1280 [==============================] - 87s 68ms/step - loss: 0.3440 - accuracy: 0.8816 - val_loss: 0.5164 - val_accuracy: 0.8508\n",
      "Epoch 48/50\n",
      "1280/1280 [==============================] - 89s 69ms/step - loss: 0.3312 - accuracy: 0.8801 - val_loss: 0.3807 - val_accuracy: 0.9016\n",
      "Epoch 49/50\n",
      "1280/1280 [==============================] - 85s 67ms/step - loss: 0.3295 - accuracy: 0.8875 - val_loss: 0.7928 - val_accuracy: 0.8273\n",
      "Epoch 50/50\n",
      "1280/1280 [==============================] - 90s 70ms/step - loss: 0.3019 - accuracy: 0.8980 - val_loss: 0.5516 - val_accuracy: 0.8555\n"
     ]
    }
   ],
   "source": [
    "# Adding the Early Stopping Callback to the model which will continuously monitor the validation loss metric for every epoch.\n",
    "# If the models validation loss does not decrease after 15 consecutive epochs, the training will be stopped and the weight which reported the lowest validation loss will be retored in the model.\n",
    "early_stopping_callback = EarlyStopping(monitor = 'val_loss', patience = 20, mode = 'min', restore_best_weights = True)\n",
    "\n",
    "# Adding loss, optimizer and metrics values to the model.\n",
    "model.compile(loss = 'categorical_crossentropy', optimizer = 'Adam', metrics = [\"accuracy\"])\n",
    "\n",
    "# Start Training\n",
    "model_training_history = model.fit(x = features_train, y = labels_train, epochs = 50, batch_size = 4, shuffle = True, validation_split = 0.2, callbacks = [early_stopping_callback])"
   ]
  },
  {
   "cell_type": "markdown",
   "metadata": {
    "id": "z1KR_kfz2oFl"
   },
   "source": [
    "### **Evaluating Your Trained Model**\n",
    "Evaluate your trained model on the feature's and label's test sets."
   ]
  },
  {
   "cell_type": "code",
   "execution_count": 23,
   "metadata": {
    "colab": {
     "background_save": true
    },
    "id": "74tGjokkmSHR",
    "outputId": "4ce77b8e-4ad5-419f-eaf4-f55774fd82a5"
   },
   "outputs": [
    {
     "name": "stdout",
     "output_type": "stream",
     "text": [
      "Reset css and font defaults in:\n",
      "/Users/nathansimms/.jupyter/custom &\n",
      "/Users/nathansimms/Library/Jupyter/nbextensions\n",
      "50/50 [==============================] - 5s 107ms/step - loss: 0.4984 - accuracy: 0.8700\n"
     ]
    }
   ],
   "source": [
    "model_evaluation_history = model.evaluate(features_test, labels_test)"
   ]
  },
  {
   "cell_type": "markdown",
   "metadata": {
    "id": "TGglb-k867iK"
   },
   "source": [
    "### **Save Your Model**\n",
    "You should now save your model for future runs."
   ]
  },
  {
   "cell_type": "code",
   "execution_count": 28,
   "metadata": {
    "colab": {
     "background_save": true
    },
    "id": "GLfnP_czYudN"
   },
   "outputs": [],
   "source": [
    "# Creating a useful name for our model, incase you're saving multiple models (OPTIONAL)\n",
    "date_time_format = '%Y_%m_%d__%H_%M_%S'\n",
    "current_date_time_dt = dt.datetime.now()\n",
    "current_date_time_string = dt.datetime.strftime(current_date_time_dt, date_time_format)\n",
    "model_evaluation_loss, model_evaluation_accuracy = model_evaluation_history\n",
    "model_name = f'Model___Date_Time_{current_date_time_string}___Loss_{model_evaluation_loss}___Accuracy_{model_evaluation_accuracy}.h5'\n",
    "\n",
    "# Saving your Model\n",
    "model.save(model_name)"
   ]
  },
  {
   "cell_type": "markdown",
   "metadata": {
    "id": "BSeAfu6uZdai"
   },
   "source": [
    "## **Step 5: Plot Model’s Loss & Accuracy Curves**\n",
    "Let's plot our loss and accuracy curves."
   ]
  },
  {
   "cell_type": "code",
   "execution_count": 25,
   "metadata": {
    "colab": {
     "background_save": true
    },
    "id": "qrQnmVF7aZjQ"
   },
   "outputs": [],
   "source": [
    "def plot_metric(metric_name_1, metric_name_2, plot_name):\n",
    "  # Get Metric values using metric names as identifiers\n",
    "  metric_value_1 = model_training_history.history[metric_name_1]\n",
    "  metric_value_2 = model_training_history.history[metric_name_2]\n",
    "\n",
    "  # Constructing a range object which will be used as time \n",
    "  epochs = range(len(metric_value_1))\n",
    "  \n",
    "  # Plotting the Graph\n",
    "  plt.plot(epochs, metric_value_1, 'blue', label = metric_name_1)\n",
    "  plt.plot(epochs, metric_value_2, 'red', label = metric_name_2)\n",
    "  \n",
    "  # Adding title to the plot\n",
    "  plt.title(str(plot_name))\n",
    "\n",
    "  # Adding legend to the plot\n",
    "  plt.legend()"
   ]
  },
  {
   "cell_type": "code",
   "execution_count": 26,
   "metadata": {
    "colab": {
     "background_save": true
    },
    "id": "tKABbscJblP_",
    "outputId": "c9da439e-8b36-4faf-bc90-4d0277528fce"
   },
   "outputs": [
    {
     "data": {
      "image/png": "[encoded data removed]",
      "text/plain": [
       "<Figure size 432x288 with 1 Axes>"
      ]
     },
     "metadata": {
      "needs_background": "light"
     },
     "output_type": "display_data"
    }
   ],
   "source": [
    "plot_metric('loss', 'val_loss', 'Total Loss vs Total Validation Loss')"
   ]
  },
  {
   "cell_type": "code",
   "execution_count": 27,
   "metadata": {
    "colab": {
     "background_save": true
    },
    "id": "cTSpJP-bb7WV",
    "outputId": "9a62ea27-1d27-407d-a0de-1bf6d99b668c"
   },
   "outputs": [
    {
     "data": {
      "image/png": "[encoded data removed]",
      "text/plain": [
       "<Figure size 432x288 with 1 Axes>"
      ]
     },
     "metadata": {
      "needs_background": "light"
     },
     "output_type": "display_data"
    }
   ],
   "source": [
    "plot_metric('accuracy', 'val_accuracy', 'Total Accuracy vs Total Validation Accuracy')"
   ]
  },
  {
   "cell_type": "markdown",
   "metadata": {
    "id": "hhXaIAsz2noW"
   },
   "source": [
    "## **Step 6: Using Single-Frame CNN Method:**\n",
    "Now let's create a function that will output a singular prediction for the complete video, now this function will take `n` frames from the entire video and make predictions. In the end, it will average the predictions of those <code>n</code> frames to give you the final activity class for that video. You can set the value of <code>n</code> using the <code>predictions_frames_count</code> variable.\n",
    "\n",
    "This function is useful when you have a video containing one activity and you want to know the activity's name and its score.\n"
   ]
  },
  {
   "cell_type": "code",
   "execution_count": null,
   "metadata": {
    "colab": {
     "background_save": true
    },
    "id": "ZeILwGThYL4Y"
   },
   "outputs": [],
   "source": [
    "def make_average_predictions(video_file_path, predictions_frames_count):\n",
    "    \n",
    "    # Initializing the Numpy array which will store Prediction Probabilities\n",
    "    predicted_labels_probabilities_np = np.zeros((predictions_frames_count, model_output_size), dtype = np.float)\n",
    "\n",
    "    # Reading the Video File using the VideoCapture Object\n",
    "    video_reader = cv2.VideoCapture(video_file_path)\n",
    "\n",
    "    # Getting The Total Frames present in the video \n",
    "    video_frames_count = int(video_reader.get(cv2.CAP_PROP_FRAME_COUNT))\n",
    "\n",
    "    # Calculating The Number of Frames to skip Before reading a frame\n",
    "    skip_frames_window = video_frames_count // predictions_frames_count\n",
    "\n",
    "    for frame_counter in range(predictions_frames_count): \n",
    "\n",
    "        # Setting Frame Position\n",
    "        video_reader.set(cv2.CAP_PROP_POS_FRAMES, frame_counter * skip_frames_window)\n",
    "\n",
    "        # Reading The Frame\n",
    "        _ , frame = video_reader.read() \n",
    "\n",
    "        # Resize the Frame to fixed Dimensions\n",
    "        resized_frame = cv2.resize(frame, (image_height, image_width))\n",
    "        \n",
    "        # Normalize the resized frame by dividing it with 255 so that each pixel value then lies between 0 and 1\n",
    "        normalized_frame = resized_frame / 255\n",
    "\n",
    "        # Passing the Image Normalized Frame to the model and receiving Predicted Probabilities.\n",
    "        predicted_labels_probabilities = model.predict(np.expand_dims(normalized_frame, axis = 0))[0]\n",
    "\n",
    "        # Appending predicted label probabilities to the deque object\n",
    "        predicted_labels_probabilities_np[frame_counter] = predicted_labels_probabilities\n",
    "\n",
    "    # Calculating Average of Predicted Labels Probabilities Column Wise \n",
    "    predicted_labels_probabilities_averaged = predicted_labels_probabilities_np.mean(axis = 0)\n",
    "\n",
    "    # Sorting the Averaged Predicted Labels Probabilities\n",
    "    predicted_labels_probabilities_averaged_sorted_indexes = np.argsort(predicted_labels_probabilities_averaged)[::-1]\n",
    "\n",
    "    # Iterating Over All Averaged Predicted Label Probabilities\n",
    "    for predicted_label in predicted_labels_probabilities_averaged_sorted_indexes:\n",
    "\n",
    "        # Accessing The Class Name using predicted label.\n",
    "        predicted_class_name = classes_list[predicted_label]\n",
    "\n",
    "        # Accessing The Averaged Probability using predicted label.\n",
    "        predicted_probability = predicted_labels_probabilities_averaged[predicted_label]\n",
    "\n",
    "        print(f\"CLASS NAME: {predicted_class_name}   AVERAGED PROBABILITY: {(predicted_probability*100):.2}\")\n",
    "    \n",
    "    # Closing the VideoCapture Object and releasing all resources held by it. \n",
    "    video_reader.release()"
   ]
  }
 ],
 "metadata": {
  "accelerator": "GPU",
  "colab": {
   "collapsed_sections": [],
   "name": "Introduction to Video Classification & Human Activity Recognition.ipynb",
   "provenance": []
  },
  "kernelspec": {
   "display_name": "Python 3",
   "language": "python",
   "name": "python3"
  },
  "language_info": {
   "codemirror_mode": {
    "name": "ipython",
    "version": 3
   },
   "file_extension": ".py",
   "mimetype": "text/x-python",
   "name": "python",
   "nbconvert_exporter": "python",
   "pygments_lexer": "ipython3",
   "version": "3.8.8"
  }
 },
 "nbformat": 4,
 "nbformat_minor": 1
}