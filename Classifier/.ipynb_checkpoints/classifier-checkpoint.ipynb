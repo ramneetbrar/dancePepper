{
 "cells": [
  {
   "cell_type": "markdown",
   "metadata": {
    "id": "u6jXb-xxL0ok"
   },
   "source": [
    "# **<center>Introduction to Video Classification & Human Activity Recognition</center>**\n",
    "\n",
    "\n",
    "\n",
    "\n",
    "---\n",
    "\n",
    "\n",
    "\n",
    "---\n",
    "\n",
    "\n",
    "\n",
    "**Here are the steps we will perform:**\n",
    "\n",
    "- **Step 1: Download and Extract the Dataset**\n",
    "- **Step 2: Visualize the Data with its Labels**\n",
    "- **Step 3: Read and Preprocess the Dataset**\n",
    "- **Step 4: Split the Data into Train and Test Set**\n",
    "- **Step 5: Construct the Model**\n",
    "- **Step 6: Compile & Train the Model**\n",
    "- **Step 7: Plot Model’s Loss & Accuracy Curves**\n",
    "- **Step 8: Make Predictions with the Model**\n",
    "- **Step 9: Using Single-Frame CNN Method**"
   ]
  },
  {
   "cell_type": "markdown",
   "metadata": {
    "id": "WUMi9FNsb10R"
   },
   "source": [
    "Make sure you have pafy, youtube-dl and moviepy packages installed."
   ]
  },
  {
   "cell_type": "code",
   "execution_count": 1,
   "metadata": {
    "colab": {
     "base_uri": "https://localhost:8080/"
    },
    "id": "4eIsL-Bpb4PY",
    "outputId": "0dadff54-a281-4a3e-ce9e-aef6ccd53cee"
   },
   "outputs": [
    {
     "name": "stdout",
     "output_type": "stream",
     "text": [
      "Requirement already satisfied: pafy in /Users/nathansimms/opt/anaconda3/lib/python3.8/site-packages (0.5.5)\n",
      "Requirement already satisfied: youtube-dl in /Users/nathansimms/opt/anaconda3/lib/python3.8/site-packages (2021.12.17)\n",
      "Requirement already satisfied: moviepy in /Users/nathansimms/opt/anaconda3/lib/python3.8/site-packages (1.0.3)\n",
      "Requirement already satisfied: requests<3.0,>=2.8.1 in /Users/nathansimms/opt/anaconda3/lib/python3.8/site-packages (from moviepy) (2.26.0)\n",
      "Requirement already satisfied: imageio<3.0,>=2.5 in /Users/nathansimms/opt/anaconda3/lib/python3.8/site-packages (from moviepy) (2.9.0)\n",
      "Requirement already satisfied: numpy in /Users/nathansimms/opt/anaconda3/lib/python3.8/site-packages (from moviepy) (1.20.1)\n",
      "Requirement already satisfied: imageio-ffmpeg>=0.2.0 in /Users/nathansimms/opt/anaconda3/lib/python3.8/site-packages (from moviepy) (0.4.5)\n",
      "Requirement already satisfied: decorator<5.0,>=4.0.2 in /Users/nathansimms/opt/anaconda3/lib/python3.8/site-packages (from moviepy) (4.4.2)\n",
      "Requirement already satisfied: proglog<=1.0.0 in /Users/nathansimms/opt/anaconda3/lib/python3.8/site-packages (from moviepy) (0.1.9)\n",
      "Requirement already satisfied: tqdm<5.0,>=4.11.2 in /Users/nathansimms/opt/anaconda3/lib/python3.8/site-packages (from moviepy) (4.59.0)\n",
      "Requirement already satisfied: pillow in /Users/nathansimms/opt/anaconda3/lib/python3.8/site-packages (from imageio<3.0,>=2.5->moviepy) (8.2.0)\n",
      "Requirement already satisfied: idna<4,>=2.5 in /Users/nathansimms/opt/anaconda3/lib/python3.8/site-packages (from requests<3.0,>=2.8.1->moviepy) (3.2)\n",
      "Requirement already satisfied: charset-normalizer~=2.0.0 in /Users/nathansimms/opt/anaconda3/lib/python3.8/site-packages (from requests<3.0,>=2.8.1->moviepy) (2.0.6)\n",
      "Requirement already satisfied: certifi>=2017.4.17 in /Users/nathansimms/opt/anaconda3/lib/python3.8/site-packages (from requests<3.0,>=2.8.1->moviepy) (2021.5.30)\n",
      "Requirement already satisfied: urllib3<1.27,>=1.21.1 in /Users/nathansimms/opt/anaconda3/lib/python3.8/site-packages (from requests<3.0,>=2.8.1->moviepy) (1.26.7)\n"
     ]
    }
   ],
   "source": [
    "!pip install pafy youtube-dl moviepy"
   ]
  },
  {
   "cell_type": "markdown",
   "metadata": {
    "id": "RiAMJx7tr5-I"
   },
   "source": [
    "#### **Import Required Libraries:**\n",
    "Start by importing all required libraries."
   ]
  },
  {
   "cell_type": "code",
   "execution_count": 2,
   "metadata": {
    "id": "X3AdbpZFCRR0"
   },
   "outputs": [],
   "source": [
    "import os\n",
    "import cv2\n",
    "import math\n",
    "import pafy\n",
    "import random\n",
    "import numpy as np\n",
    "import datetime as dt\n",
    "import tensorflow as tf\n",
    "from moviepy.editor import *\n",
    "from collections import deque\n",
    "import matplotlib.pyplot as plt\n",
    "%matplotlib inline\n",
    "\n",
    "from sklearn.model_selection import train_test_split\n",
    "\n",
    "from tensorflow.keras.layers import *\n",
    "from tensorflow.keras.models import Sequential\n",
    "from tensorflow.keras.utils import to_categorical\n",
    "from tensorflow.keras.callbacks import EarlyStopping\n",
    "from tensorflow.keras.utils import plot_model"
   ]
  },
  {
   "cell_type": "markdown",
   "metadata": {
    "id": "jT1dZY7cD3Ro"
   },
   "source": [
    "**Set Numpy, Python & Tensorflow seeds to get consistent results.**"
   ]
  },
  {
   "cell_type": "code",
   "execution_count": 3,
   "metadata": {
    "id": "3pEI_v7HD1WV"
   },
   "outputs": [],
   "source": [
    "seed_constant = 23\n",
    "np.random.seed(seed_constant)\n",
    "random.seed(seed_constant)\n",
    "tf.random.set_seed(seed_constant)"
   ]
  },
  {
   "cell_type": "markdown",
   "metadata": {
    "id": "HBBdZ02OrCQa"
   },
   "source": [
    "## **Step 1: Download and Extract the Dataset**\n",
    "\n",
    "Let’s start by downloading the dataset. \n",
    "\n",
    "The Dataset we are using is the [UCF50 - Action Recognition Dataset](https://www.crcv.ucf.edu/data/UCF50.php).\n",
    "\n",
    "**UCF50** is an action recognition dataset which contains:\n",
    "\n",
    "*   **50** Action Categories consisting of realistic YouTube videos\n",
    "*   **25** Groups of Videos per Action Category\n",
    "*   **133** Average Videos per Action Category\n",
    "*   **199** Average Number of Frames per Video\n",
    "*   **320** Average Frames Width per Video\n",
    "*   **240** Average Frames Height per Video\n",
    "*   **26** Average Frames Per Seconds per Video\n",
    "\n",
    "After downloading the data, you will need to extract it.\n"
   ]
  },
  {
   "cell_type": "code",
   "execution_count": 4,
   "metadata": {
    "colab": {
     "base_uri": "https://localhost:8080/"
    },
    "id": "SdlhJjMyWJv-",
    "outputId": "519953a2-26bf-4f85-9c4e-83586dcd2264"
   },
   "outputs": [
    {
     "name": "stdout",
     "output_type": "stream",
     "text": [
      "/bin/bash: wget: command not found\r\n"
     ]
    }
   ],
   "source": []
  },
  {
   "cell_type": "markdown",
   "metadata": {
    "id": "_FM1bpIeC29Z"
   },
   "source": [
    "## **Step 2: Visualize the Data with its Labels**\n",
    "Let's pick some random videos from each class of the dataset and display it, this will give us a good overview of how the dataset look like."
   ]
  },
  {
   "cell_type": "code",
   "execution_count": 5,
   "metadata": {
    "colab": {
     "base_uri": "https://localhost:8080/",
     "height": 1000
    },
    "id": "oQnKb7fbC2aq",
    "outputId": "bdd0f596-4406-48fc-b6c0-38c84113ea5f"
   },
   "outputs": [
    {
     "ename": "FileNotFoundError",
     "evalue": "[Errno 2] No such file or directory: 'UCF50'",
     "output_type": "error",
     "traceback": [
      "\u001b[0;31m---------------------------------------------------------------------------\u001b[0m",
      "\u001b[0;31mFileNotFoundError\u001b[0m                         Traceback (most recent call last)",
      "\u001b[0;32m<ipython-input-5-9816d575337c>\u001b[0m in \u001b[0;36m<module>\u001b[0;34m\u001b[0m\n\u001b[1;32m      3\u001b[0m \u001b[0;34m\u001b[0m\u001b[0m\n\u001b[1;32m      4\u001b[0m \u001b[0;31m# Get Names of all classes in UCF50\u001b[0m\u001b[0;34m\u001b[0m\u001b[0;34m\u001b[0m\u001b[0;34m\u001b[0m\u001b[0m\n\u001b[0;32m----> 5\u001b[0;31m \u001b[0mall_classes_names\u001b[0m \u001b[0;34m=\u001b[0m \u001b[0mos\u001b[0m\u001b[0;34m.\u001b[0m\u001b[0mlistdir\u001b[0m\u001b[0;34m(\u001b[0m\u001b[0;34m'UCF50'\u001b[0m\u001b[0;34m)\u001b[0m\u001b[0;34m\u001b[0m\u001b[0;34m\u001b[0m\u001b[0m\n\u001b[0m\u001b[1;32m      6\u001b[0m \u001b[0;34m\u001b[0m\u001b[0m\n\u001b[1;32m      7\u001b[0m \u001b[0;31m# Generate a random sample of images each time the cell runs\u001b[0m\u001b[0;34m\u001b[0m\u001b[0;34m\u001b[0m\u001b[0;34m\u001b[0m\u001b[0m\n",
      "\u001b[0;31mFileNotFoundError\u001b[0m: [Errno 2] No such file or directory: 'UCF50'"
     ]
    },
    {
     "data": {
      "text/plain": [
       "<Figure size 2160x2160 with 0 Axes>"
      ]
     },
     "metadata": {},
     "output_type": "display_data"
    }
   ],
   "source": [
    "# Create a Matplotlib figure\n",
    "plt.figure(figsize = (30, 30))\n",
    "\n",
    "# Get Names of all classes in UCF50\n",
    "all_classes_names = os.listdir('UCF50')\n",
    "\n",
    "# Generate a random sample of images each time the cell runs\n",
    "random_range = random.sample(range(len(all_classes_names)), 20)\n",
    "\n",
    "# Iterating through all the random samples\n",
    "for counter, random_index in enumerate(random_range, 1):\n",
    "\n",
    "    # Getting Class Name using Random Index\n",
    "    selected_class_Name = all_classes_names[random_index]\n",
    "\n",
    "    # Getting a list of all the video files present in a Class Directory\n",
    "    video_files_names_list = os.listdir(f'UCF50/{selected_class_Name}')\n",
    "\n",
    "    # Randomly selecting a video file\n",
    "    selected_video_file_name = random.choice(video_files_names_list)\n",
    "\n",
    "    # Reading the Video File Using the Video Capture\n",
    "    video_reader = cv2.VideoCapture(f'UCF50/{selected_class_Name}/{selected_video_file_name}')\n",
    "    \n",
    "    # Reading The First Frame of the Video File\n",
    "    _, bgr_frame = video_reader.read()\n",
    "\n",
    "    # Closing the VideoCapture object and releasing all resources. \n",
    "    video_reader.release()\n",
    "\n",
    "    # Converting the BGR Frame to RGB Frame \n",
    "    rgb_frame = cv2.cvtColor(bgr_frame, cv2.COLOR_BGR2RGB)\n",
    "\n",
    "    # Adding The Class Name Text on top of the Video Frame.\n",
    "    cv2.putText(rgb_frame, selected_class_Name, (10, 30), cv2.FONT_HERSHEY_SIMPLEX, 1, (255, 0, 0), 2)\n",
    "    \n",
    "    # Assigning the Frame to a specific position of a subplot\n",
    "    plt.subplot(5, 4, counter)\n",
    "    plt.imshow(rgb_frame)\n",
    "    plt.axis('off')"
   ]
  },
  {
   "cell_type": "markdown",
   "metadata": {
    "id": "35mPPJndwgVC"
   },
   "source": [
    "## **Step 3: Read & Preprocess the Dataset**\n",
    "\n",
    "Since we're going to use a classification architecture to train on a video classification dataset, we're goiing to need to preprocess the dataset first.\n",
    "\n",
    "Now w constants, \n",
    "- **`image_height`** and **`image_weight`**: This is the size we will resize all frames of the video to, we're doing this to avoid unneccsary computation.\n",
    "\n",
    "- **`max_images_per_class`**: Maximum number of training images allowed for each class.\n",
    "\n",
    "- **`dataset_directory`**: The path of the directory containing the extracted dataset. \n",
    "\n",
    "- **`classes_list`**: These are the list of classes we're going to be training on, we're traninng on following 4 classes, you can feel free to change it. \n",
    "  - *tai chi*\n",
    "  - *Swinging*\n",
    "  - *Horse Racing*\n",
    "  - *Walking with a Dog*\n",
    "\n",
    "**Note:** The `image_height`, `image_weight` and `max_images_per_class` constants may be increased for better results, but be warned this will become computationally expensive."
   ]
  },
  {
   "cell_type": "code",
   "execution_count": 6,
   "metadata": {
    "id": "gb4Fv7Ag-kwb"
   },
   "outputs": [],
   "source": [
    "image_height, image_width = 64, 64\n",
    "max_images_per_class = 8000\n",
    "\n",
    "dataset_directory = \"UCF50\"\n",
    "classes_list = [\"WalkingWithDog\", \"TaiChi\", \"Swing\", \"HorseRace\"]\n",
    "\n",
    "model_output_size = len(classes_list)"
   ]
  },
  {
   "cell_type": "markdown",
   "metadata": {
    "id": "_v6w2EzbvhRg"
   },
   "source": [
    "### **Extract, Resize & Normalize Frames**\n",
    "\n",
    "\n",
    "Now we'll create a function that will extract frames from each video while performing other preprocessing operation like resizing and normalizing images. \n",
    "\n",
    "This method takes a video file path as input. It then reads the video file frame by frame, resizes each frame, normalizes the resized frame, appends the normalized frame into a list and then finally returns that list."
   ]
  },
  {
   "cell_type": "code",
   "execution_count": 7,
   "metadata": {
    "id": "zBu224OG-szz"
   },
   "outputs": [],
   "source": [
    "def frames_extraction(video_path):\n",
    "    # Empty List declared to store video frames\n",
    "    frames_list = []\n",
    "    \n",
    "    # Reading the Video File Using the VideoCapture\n",
    "    video_reader = cv2.VideoCapture(video_path)\n",
    "\n",
    "    # Iterating through Video Frames\n",
    "    while True:\n",
    "\n",
    "        # Reading a frame from the video file \n",
    "        success, frame = video_reader.read() \n",
    "\n",
    "        # If Video frame was not successfully read then break the loop\n",
    "        if not success:\n",
    "            break\n",
    "\n",
    "        # Resize the Frame to fixed Dimensions\n",
    "        resized_frame = cv2.resize(frame, (image_height, image_width))\n",
    "        \n",
    "        # Normalize the resized frame by dividing it with 255 so that each pixel value then lies between 0 and 1\n",
    "        normalized_frame = resized_frame / 255\n",
    "        \n",
    "        # Appending the normalized frame into the frames list\n",
    "        frames_list.append(normalized_frame)\n",
    "    \n",
    "    # Closing the VideoCapture object and releasing all resources. \n",
    "    video_reader.release()\n",
    "\n",
    "    # returning the frames list \n",
    "    return frames_list"
   ]
  },
  {
   "cell_type": "markdown",
   "metadata": {
    "id": "fL6Y0VupxLom"
   },
   "source": [
    "### **Dataset Creation**\n",
    "Now we'll create another function called  **`create_dataset()`**,  this function uses the **`frame_extraction()`** funciton above and creates our final preprocessed dataset. \n",
    "\n",
    "**Here's how this function works:**\n",
    "\n",
    "1.   Iterate through all the classes mentioned in the `classes_list`\n",
    "2.   Now for each class iterate through all the video files present in it. \n",
    "3.   Call the **frame_extraction** method on each video file.\n",
    "4.   Add the returned frames to a list called `temp_features`\n",
    "5.   After all videos of a class are processed, randomly select video frames (equal to **max_images_per_class**) and add them to the list called `features`.\n",
    "6.   Add labels of the selected videos to the labels list.\n",
    "7.   After all videos of all classes are processed then return the features and labels as numpy arrays.\n",
    "\n",
    "\n",
    "So when you call this function, it returns **2** lists:\n",
    "- a list of feature vectors \n",
    "- a list of it's associated labels.\n"
   ]
  },
  {
   "cell_type": "code",
   "execution_count": 8,
   "metadata": {
    "id": "j6MLp9PpDJ4-"
   },
   "outputs": [],
   "source": [
    "def create_dataset():\n",
    "\n",
    "    # Declaring Empty Lists to store the features and labels values.\n",
    "    temp_features = [] \n",
    "    features = []\n",
    "    labels = []\n",
    "    \n",
    "    # Iterating through all the classes mentioned in the classes list\n",
    "    for class_index, class_name in enumerate(classes_list):\n",
    "        print(f'Extracting Data of Class: {class_name}')\n",
    "        \n",
    "        # Getting the list of video files present in the specific class name directory\n",
    "        files_list = os.listdir(os.path.join(dataset_directory, class_name))\n",
    "\n",
    "        # Iterating through all the files present in the files list\n",
    "        for file_name in files_list:\n",
    "\n",
    "            # Construct the complete video path\n",
    "            video_file_path = os.path.join(dataset_directory, class_name, file_name)\n",
    "\n",
    "            # Calling the frame_extraction method for every video file path\n",
    "            frames = frames_extraction(video_file_path)\n",
    "\n",
    "            # Appending the frames to a temporary list.\n",
    "            temp_features.extend(frames)\n",
    "        \n",
    "        # Adding randomly selected frames to the features list\n",
    "        features.extend(random.sample(temp_features, max_images_per_class))\n",
    "\n",
    "        # Adding Fixed number of labels to the labels list\n",
    "        labels.extend([class_index] * max_images_per_class)\n",
    "        \n",
    "        # Emptying the temp_features list so it can be reused to store all frames of the next class.\n",
    "        temp_features.clear()\n",
    "\n",
    "    # Converting the features and labels lists to numpy arrays\n",
    "    features = np.asarray(features)\n",
    "    labels = np.array(labels)  \n",
    "\n",
    "    return features, labels"
   ]
  },
  {
   "cell_type": "markdown",
   "metadata": {
    "id": "3jNu1QTX0G0q"
   },
   "source": [
    "Calling the **create_dataset** method which returns features and labels."
   ]
  },
  {
   "cell_type": "code",
   "execution_count": 9,
   "metadata": {
    "colab": {
     "base_uri": "https://localhost:8080/"
    },
    "id": "ckAYgSriJN_R",
    "outputId": "b787e183-66af-4fdc-b494-49c2fdbcee59"
   },
   "outputs": [
    {
     "name": "stdout",
     "output_type": "stream",
     "text": [
      "Extracting Data of Class: WalkingWithDog\n",
      "Extracting Data of Class: TaiChi\n",
      "Extracting Data of Class: Swing\n",
      "Extracting Data of Class: HorseRace\n"
     ]
    }
   ],
   "source": [
    "features, labels = create_dataset()"
   ]
  },
  {
   "cell_type": "markdown",
   "metadata": {
    "id": "goRGrc8_0Usb"
   },
   "source": [
    "Now we will convert class labels to one hot encoded vectors."
   ]
  },
  {
   "cell_type": "code",
   "execution_count": 10,
   "metadata": {
    "id": "KfcpuV6_Bd_T"
   },
   "outputs": [],
   "source": [
    "# Using Keras's to_categorical method to convert labels into one-hot-encoded vectors\n",
    "one_hot_encoded_labels = to_categorical(labels)"
   ]
  },
  {
   "cell_type": "markdown",
   "metadata": {
    "id": "PzRt7pP-0j5V"
   },
   "source": [
    "## **Step 4: Split the Data into Train and Test Set**\n",
    "Now we have 2 numpy arrays, one containing all images, the second one contains all class labels in one hot encoded format. Let’s split our data to create a training and a testing set. It’s important that you shuffle your data before the split which we have already done.\n"
   ]
  },
  {
   "cell_type": "code",
   "execution_count": 11,
   "metadata": {
    "id": "UhkQjq1JJSO2"
   },
   "outputs": [],
   "source": [
    "features_train, features_test, labels_train, labels_test = train_test_split(features, one_hot_encoded_labels, test_size = 0.2, shuffle = True, random_state = seed_constant)"
   ]
  },
  {
   "cell_type": "markdown",
   "metadata": {
    "id": "x8Ui5hLP1P9Q"
   },
   "source": [
    "## **Step 5: Construct the Model**\n",
    "Now it’s time to create our CNN model, for this post, we're c reating a simple CNN Classification model with two CNN layers."
   ]
  },
  {
   "cell_type": "code",
   "execution_count": 12,
   "metadata": {
    "colab": {
     "base_uri": "https://localhost:8080/"
    },
    "id": "h8cDSpfXJXwx",
    "outputId": "7a93fc19-2943-4272-e2f8-f4169fab5ce8"
   },
   "outputs": [
    {
     "name": "stdout",
     "output_type": "stream",
     "text": [
      "Model: \"sequential\"\n",
      "_________________________________________________________________\n",
      " Layer (type)                Output Shape              Param #   \n",
      "=================================================================\n",
      " conv2d (Conv2D)             (None, 62, 62, 64)        1792      \n",
      "                                                                 \n",
      " conv2d_1 (Conv2D)           (None, 60, 60, 64)        36928     \n",
      "                                                                 \n",
      " batch_normalization (BatchN  (None, 60, 60, 64)       256       \n",
      " ormalization)                                                   \n",
      "                                                                 \n",
      " max_pooling2d (MaxPooling2D  (None, 30, 30, 64)       0         \n",
      " )                                                               \n",
      "                                                                 \n",
      " global_average_pooling2d (G  (None, 64)               0         \n",
      " lobalAveragePooling2D)                                          \n",
      "                                                                 \n",
      " dense (Dense)               (None, 256)               16640     \n",
      "                                                                 \n",
      " batch_normalization_1 (Batc  (None, 256)              1024      \n",
      " hNormalization)                                                 \n",
      "                                                                 \n",
      " dense_1 (Dense)             (None, 4)                 1028      \n",
      "                                                                 \n",
      "=================================================================\n",
      "Total params: 57,668\n",
      "Trainable params: 57,028\n",
      "Non-trainable params: 640\n",
      "_________________________________________________________________\n",
      "Model Created Successfully!\n"
     ]
    }
   ],
   "source": [
    "# Let's create a function that will construct our model\n",
    "def create_model():\n",
    "\n",
    "    # We will use a Sequential model for model construction\n",
    "    model = Sequential()\n",
    "\n",
    "    # Defining The Model Architecture\n",
    "    model.add(Conv2D(filters = 64, kernel_size = (3, 3), activation = 'relu', input_shape = (image_height, image_width, 3)))\n",
    "    model.add(Conv2D(filters = 64, kernel_size = (3, 3), activation = 'relu'))\n",
    "    model.add(BatchNormalization())\n",
    "    model.add(MaxPooling2D(pool_size = (2, 2)))\n",
    "    model.add(GlobalAveragePooling2D())\n",
    "    model.add(Dense(256, activation = 'relu'))\n",
    "    model.add(BatchNormalization())\n",
    "    model.add(Dense(model_output_size, activation = 'softmax'))\n",
    "\n",
    "    # Printing the models summary\n",
    "    model.summary()\n",
    "\n",
    "    return model\n",
    "\n",
    "\n",
    "# Calling the create_model method\n",
    "model = create_model()\n",
    "\n",
    "print(\"Model Created Successfully!\")"
   ]
  },
  {
   "cell_type": "markdown",
   "metadata": {
    "id": "OOGUT5DbK7Sr"
   },
   "source": [
    "### **Check Model’s Structure:**\n",
    "Using the **plot_model** function you can check the structure of the final model, this is really helpful when you’re creating a complex network and you want to make sure you have constructed the network correctly."
   ]
  },
  {
   "cell_type": "code",
   "execution_count": 13,
   "metadata": {
    "colab": {
     "base_uri": "https://localhost:8080/",
     "height": 976
    },
    "id": "hbSK_rKUK-xQ",
    "outputId": "c47c49e7-0f9d-4117-deab-0db8c9b71f16"
   },
   "outputs": [
    {
     "name": "stdout",
     "output_type": "stream",
     "text": [
      "You must install pydot (`pip install pydot`) and install graphviz (see instructions at https://graphviz.gitlab.io/download/) for plot_model/model_to_dot to work.\n"
     ]
    }
   ],
   "source": [
    "plot_model(model, to_file = 'model_structure_plot.png', show_shapes = True, show_layer_names = True)"
   ]
  },
  {
   "cell_type": "markdown",
   "metadata": {
    "id": "ZHKkZvkCOnMU"
   },
   "source": [
    "## **Step 6: Compile & Train the Model**\n",
    "\n",
    "\n",
    "Now let's start the training. Before we do that, we also need to complile the model.\n"
   ]
  },
  {
   "cell_type": "code",
   "execution_count": 14,
   "metadata": {
    "colab": {
     "background_save": true,
     "base_uri": "https://localhost:8080/"
    },
    "id": "Ju_Mq42yQhqN",
    "outputId": "26e8ce7e-30f3-49f2-dcc3-3d3048a2ec83"
   },
   "outputs": [
    {
     "name": "stdout",
     "output_type": "stream",
     "text": [
      "5120/5120 [==============================] - 215s 42ms/step - loss: 0.8572 - accuracy: 0.6575 - val_loss: 0.3906 - val_accuracy: 0.8680\n"
     ]
    }
   ],
   "source": [
    "# Adding the Early Stopping Callback to the model which will continuously monitor the validation loss metric for every epoch.\n",
    "# If the models validation loss does not decrease after 15 consecutive epochs, the training will be stopped and the weight which reported the lowest validation loss will be retored in the model.\n",
    "early_stopping_callback = EarlyStopping(monitor = 'val_loss', patience = 15, mode = 'min', restore_best_weights = True)\n",
    "\n",
    "# Adding loss, optimizer and metrics values to the model.\n",
    "model.compile(loss = 'categorical_crossentropy', optimizer = 'Adam', metrics = [\"accuracy\"])\n",
    "\n",
    "# Start Training\n",
    "model_training_history = model.fit(x = features_train, y = labels_train, epochs = 1, batch_size = 4 , shuffle = True, validation_split = 0.2, callbacks = [early_stopping_callback])"
   ]
  },
  {
   "cell_type": "markdown",
   "metadata": {
    "id": "z1KR_kfz2oFl"
   },
   "source": [
    "### **Evaluating Your Trained Model**\n",
    "Evaluate your trained model on the feature's and label's test sets."
   ]
  },
  {
   "cell_type": "code",
   "execution_count": 15,
   "metadata": {
    "colab": {
     "background_save": true
    },
    "id": "74tGjokkmSHR",
    "outputId": "4ce77b8e-4ad5-419f-eaf4-f55774fd82a5"
   },
   "outputs": [
    {
     "name": "stdout",
     "output_type": "stream",
     "text": [
      "200/200 [==============================] - 8s 37ms/step - loss: 0.4139 - accuracy: 0.8634\n"
     ]
    }
   ],
   "source": [
    "model_evaluation_history = model.evaluate(features_test, labels_test)"
   ]
  },
  {
   "cell_type": "markdown",
   "metadata": {
    "id": "TGglb-k867iK"
   },
   "source": [
    "### **Save Your Model**\n",
    "You should now save your model for future runs."
   ]
  },
  {
   "cell_type": "code",
   "execution_count": 16,
   "metadata": {
    "colab": {
     "background_save": true
    },
    "id": "GLfnP_czYudN"
   },
   "outputs": [],
   "source": [
    "# Creating a useful name for our model, incase you're saving multiple models (OPTIONAL)\n",
    "date_time_format = '%Y_%m_%d__%H_%M_%S'\n",
    "current_date_time_dt = dt.datetime.now()\n",
    "current_date_time_string = dt.datetime.strftime(current_date_time_dt, date_time_format)\n",
    "model_evaluation_loss, model_evaluation_accuracy = model_evaluation_history\n",
    "model_name = f'Model___Date_Time_{current_date_time_string}___Loss_{model_evaluation_loss}___Accuracy_{model_evaluation_accuracy}.h5'\n",
    "\n",
    "# Saving your Model\n",
    "model.save(model_name)"
   ]
  },
  {
   "cell_type": "markdown",
   "metadata": {
    "id": "BSeAfu6uZdai"
   },
   "source": [
    "## **Step 7: Plot Model’s Loss & Accuracy Curves**\n",
    "Let's plot our loss and accuracy curves."
   ]
  },
  {
   "cell_type": "code",
   "execution_count": 17,
   "metadata": {
    "colab": {
     "background_save": true
    },
    "id": "qrQnmVF7aZjQ"
   },
   "outputs": [],
   "source": [
    "def plot_metric(metric_name_1, metric_name_2, plot_name):\n",
    "  # Get Metric values using metric names as identifiers\n",
    "  metric_value_1 = model_training_history.history[metric_name_1]\n",
    "  metric_value_2 = model_training_history.history[metric_name_2]\n",
    "\n",
    "  # Constructing a range object which will be used as time \n",
    "  epochs = range(len(metric_value_1))\n",
    "  \n",
    "  # Plotting the Graph\n",
    "  plt.plot(epochs, metric_value_1, 'blue', label = metric_name_1)\n",
    "  plt.plot(epochs, metric_value_2, 'red', label = metric_name_2)\n",
    "  \n",
    "  # Adding title to the plot\n",
    "  plt.title(str(plot_name))\n",
    "\n",
    "  # Adding legend to the plot\n",
    "  plt.legend()"
   ]
  },
  {
   "cell_type": "code",
   "execution_count": 18,
   "metadata": {
    "colab": {
     "background_save": true
    },
    "id": "tKABbscJblP_",
    "outputId": "c9da439e-8b36-4faf-bc90-4d0277528fce"
   },
   "outputs": [
    {
     "data": {
      "image/png": "[encoded data removed]",
      "text/plain": [
       "<Figure size 432x288 with 1 Axes>"
      ]
     },
     "metadata": {
      "needs_background": "light"
     },
     "output_type": "display_data"
    }
   ],
   "source": [
    "plot_metric('loss', 'val_loss', 'Total Loss vs Total Validation Loss')"
   ]
  },
  {
   "cell_type": "code",
   "execution_count": 19,
   "metadata": {
    "colab": {
     "background_save": true
    },
    "id": "cTSpJP-bb7WV",
    "outputId": "9a62ea27-1d27-407d-a0de-1bf6d99b668c"
   },
   "outputs": [
    {
     "data": {
      "image/png": "[encoded data removed]",
      "text/plain": [
       "<Figure size 432x288 with 1 Axes>"
      ]
     },
     "metadata": {
      "needs_background": "light"
     },
     "output_type": "display_data"
    }
   ],
   "source": [
    "plot_metric('accuracy', 'val_accuracy', 'Total Accuracy vs Total Validation Accuracy')"
   ]
  },
  {
   "cell_type": "markdown",
   "metadata": {
    "id": "1OTbwVQaoZwK"
   },
   "source": [
    "## **Step 8: Make Predictions with the Model:**\n",
    "Now that we have created and trained our model it's time to test it's performance on some test videos.\n"
   ]
  },
  {
   "cell_type": "markdown",
   "metadata": {
    "id": "ajjLQB2JzEGx"
   },
   "source": [
    "#### **Function to Download YouTube Videos:**\n",
    "Let's start by testing on some youtube videos, this function will use pafy librar to download any youtube video and return it's title. You just need to pass the URL."
   ]
  },
  {
   "cell_type": "code",
   "execution_count": 20,
   "metadata": {
    "colab": {
     "background_save": true
    },
    "id": "K8d5G9Nb6Rao"
   },
   "outputs": [],
   "source": [
    "def download_youtube_videos(youtube_video_url, output_directory):\n",
    "    # Creating a Video object which includes useful information regarding the youtube video.\n",
    "    video = pafy.new(youtube_video_url)\n",
    "\n",
    "    # Getting the best available quality object for the youtube video.\n",
    "    video_best = video.getbest()\n",
    "\n",
    "    # Constructing the Output File Path\n",
    "    output_file_path = f'{output_directory}/{video.title}.mp4'\n",
    "\n",
    "    # Downloading the youtube video at the best available quality.\n",
    "    video_best.download(filepath = output_file_path, quiet = True)\n",
    "\n",
    "    # Returning Video Title\n",
    "    return video.title"
   ]
  },
  {
   "cell_type": "markdown",
   "metadata": {
    "id": "-AyskzYy0HR6"
   },
   "source": [
    "#### **Function To Predict on Live Videos Using Moving Average:**\n",
    "This function will predict on live videos using moving_average, you can either pass in videos saved on disk or use your webcam. If you set `window_size` hyperparameter to `1` then this function will behave like a normal classifier to predict on video frames.\n",
    "\n",
    "**Note:** *You can't use your webcam if you're running this notebook on google colab.*"
   ]
  },
  {
   "cell_type": "code",
   "execution_count": 21,
   "metadata": {
    "colab": {
     "background_save": true
    },
    "id": "xstBdvICgdPg"
   },
   "outputs": [],
   "source": [
    "def predict_on_live_video(video_file_path, output_file_path, window_size):\n",
    "\n",
    "    # Initialize a Deque Object with a fixed size which will be used to implement moving/rolling average functionality.\n",
    "    predicted_labels_probabilities_deque = deque(maxlen = window_size)\n",
    "\n",
    "    # Reading the Video File using the VideoCapture Object\n",
    "    video_reader = cv2.VideoCapture(video_file_path)\n",
    "\n",
    "    # Getting the width and height of the video \n",
    "    original_video_width = int(video_reader.get(cv2.CAP_PROP_FRAME_WIDTH))\n",
    "    original_video_height = int(video_reader.get(cv2.CAP_PROP_FRAME_HEIGHT))\n",
    "\n",
    "    # Writing the Overlayed Video Files Using the VideoWriter Object\n",
    "    video_writer = cv2.VideoWriter(output_file_path, cv2.VideoWriter_fourcc('M', 'P', '4', 'V'), 24, (original_video_width, original_video_height))\n",
    "\n",
    "    while True: \n",
    "\n",
    "        # Reading The Frame\n",
    "        status, frame = video_reader.read() \n",
    "\n",
    "        if not status:\n",
    "            break\n",
    "\n",
    "        # Resize the Frame to fixed Dimensions\n",
    "        resized_frame = cv2.resize(frame, (image_height, image_width))\n",
    "        \n",
    "        # Normalize the resized frame by dividing it with 255 so that each pixel value then lies between 0 and 1\n",
    "        normalized_frame = resized_frame / 255\n",
    "\n",
    "        # Passing the Image Normalized Frame to the model and receiving Predicted Probabilities.\n",
    "        predicted_labels_probabilities = model.predict(np.expand_dims(normalized_frame, axis = 0))[0]\n",
    "\n",
    "        # Appending predicted label probabilities to the deque object\n",
    "        predicted_labels_probabilities_deque.append(predicted_labels_probabilities)\n",
    "\n",
    "        # Assuring that the Deque is completely filled before starting the averaging process\n",
    "        if len(predicted_labels_probabilities_deque) == window_size:\n",
    "\n",
    "            # Converting Predicted Labels Probabilities Deque into Numpy array\n",
    "            predicted_labels_probabilities_np = np.array(predicted_labels_probabilities_deque)\n",
    "\n",
    "            # Calculating Average of Predicted Labels Probabilities Column Wise \n",
    "            predicted_labels_probabilities_averaged = predicted_labels_probabilities_np.mean(axis = 0)\n",
    "\n",
    "            # Converting the predicted probabilities into labels by returning the index of the maximum value.\n",
    "            predicted_label = np.argmax(predicted_labels_probabilities_averaged)\n",
    "\n",
    "            # Accessing The Class Name using predicted label.\n",
    "            predicted_class_name = classes_list[predicted_label]\n",
    "          \n",
    "            # Overlaying Class Name Text Ontop of the Frame\n",
    "            cv2.putText(frame, predicted_class_name, (10, 30), cv2.FONT_HERSHEY_SIMPLEX, 1, (0, 0, 255), 2)\n",
    "\n",
    "        # Writing The Frame\n",
    "        video_writer.write(frame)\n",
    "\n",
    "\n",
    "        # cv2.imshow('Predicted Frames', frame)\n",
    "\n",
    "        # key_pressed = cv2.waitKey(10)\n",
    "\n",
    "        # if key_pressed == ord('q'):\n",
    "        #     break\n",
    "\n",
    "    # cv2.destroyAllWindows()\n",
    "\n",
    "    \n",
    "    # Closing the VideoCapture and VideoWriter objects and releasing all resources held by them. \n",
    "    video_reader.release()\n",
    "    video_writer.release()"
   ]
  },
  {
   "cell_type": "markdown",
   "metadata": {
    "id": "M_khMob31r5V"
   },
   "source": [
    "#### **Download a Test Video:**"
   ]
  },
  {
   "cell_type": "code",
   "execution_count": 23,
   "metadata": {
    "colab": {
     "background_save": true
    },
    "id": "yltgJYo3yQSQ",
    "outputId": "9fc392a4-f691-4b1f-fd2d-1f95a6dd11ff"
   },
   "outputs": [
    {
     "ename": "KeyError",
     "evalue": "'dislike_count'",
     "output_type": "error",
     "traceback": [
      "\u001b[0;31m---------------------------------------------------------------------------\u001b[0m",
      "\u001b[0;31mKeyError\u001b[0m                                  Traceback (most recent call last)",
      "\u001b[0;32m<ipython-input-23-3f8a62269578>\u001b[0m in \u001b[0;36m<module>\u001b[0;34m\u001b[0m\n\u001b[1;32m      4\u001b[0m \u001b[0;34m\u001b[0m\u001b[0m\n\u001b[1;32m      5\u001b[0m \u001b[0;31m# Downloading a YouTube Video\u001b[0m\u001b[0;34m\u001b[0m\u001b[0;34m\u001b[0m\u001b[0;34m\u001b[0m\u001b[0m\n\u001b[0;32m----> 6\u001b[0;31m \u001b[0mvideo_title\u001b[0m \u001b[0;34m=\u001b[0m \u001b[0mdownload_youtube_videos\u001b[0m\u001b[0;34m(\u001b[0m\u001b[0;34m'https://www.youtube.com/watch?v=8u0qjmHIOcE'\u001b[0m\u001b[0;34m,\u001b[0m \u001b[0moutput_directory\u001b[0m\u001b[0;34m)\u001b[0m\u001b[0;34m\u001b[0m\u001b[0;34m\u001b[0m\u001b[0m\n\u001b[0m\u001b[1;32m      7\u001b[0m \u001b[0;34m\u001b[0m\u001b[0m\n\u001b[1;32m      8\u001b[0m \u001b[0;31m# Getting the YouTube Video's path you just downloaded\u001b[0m\u001b[0;34m\u001b[0m\u001b[0;34m\u001b[0m\u001b[0;34m\u001b[0m\u001b[0m\n",
      "\u001b[0;32m<ipython-input-20-bae1bf228c4a>\u001b[0m in \u001b[0;36mdownload_youtube_videos\u001b[0;34m(youtube_video_url, output_directory)\u001b[0m\n\u001b[1;32m      1\u001b[0m \u001b[0;32mdef\u001b[0m \u001b[0mdownload_youtube_videos\u001b[0m\u001b[0;34m(\u001b[0m\u001b[0myoutube_video_url\u001b[0m\u001b[0;34m,\u001b[0m \u001b[0moutput_directory\u001b[0m\u001b[0;34m)\u001b[0m\u001b[0;34m:\u001b[0m\u001b[0;34m\u001b[0m\u001b[0;34m\u001b[0m\u001b[0m\n\u001b[1;32m      2\u001b[0m     \u001b[0;31m# Creating a Video object which includes useful information regarding the youtube video.\u001b[0m\u001b[0;34m\u001b[0m\u001b[0;34m\u001b[0m\u001b[0;34m\u001b[0m\u001b[0m\n\u001b[0;32m----> 3\u001b[0;31m     \u001b[0mvideo\u001b[0m \u001b[0;34m=\u001b[0m \u001b[0mpafy\u001b[0m\u001b[0;34m.\u001b[0m\u001b[0mnew\u001b[0m\u001b[0;34m(\u001b[0m\u001b[0myoutube_video_url\u001b[0m\u001b[0;34m)\u001b[0m\u001b[0;34m\u001b[0m\u001b[0;34m\u001b[0m\u001b[0m\n\u001b[0m\u001b[1;32m      4\u001b[0m \u001b[0;34m\u001b[0m\u001b[0m\n\u001b[1;32m      5\u001b[0m     \u001b[0;31m# Getting the best available quality object for the youtube video.\u001b[0m\u001b[0;34m\u001b[0m\u001b[0;34m\u001b[0m\u001b[0;34m\u001b[0m\u001b[0m\n",
      "\u001b[0;32m~/opt/anaconda3/lib/python3.8/site-packages/pafy/pafy.py\u001b[0m in \u001b[0;36mnew\u001b[0;34m(url, basic, gdata, size, callback, ydl_opts)\u001b[0m\n\u001b[1;32m    122\u001b[0m            \u001b[0;32mfrom\u001b[0m \u001b[0;34m.\u001b[0m\u001b[0mbackend_youtube_dl\u001b[0m \u001b[0;32mimport\u001b[0m \u001b[0mYtdlPafy\u001b[0m \u001b[0;32mas\u001b[0m \u001b[0mPafy\u001b[0m\u001b[0;34m\u001b[0m\u001b[0;34m\u001b[0m\u001b[0m\n\u001b[1;32m    123\u001b[0m \u001b[0;34m\u001b[0m\u001b[0m\n\u001b[0;32m--> 124\u001b[0;31m     \u001b[0;32mreturn\u001b[0m \u001b[0mPafy\u001b[0m\u001b[0;34m(\u001b[0m\u001b[0murl\u001b[0m\u001b[0;34m,\u001b[0m \u001b[0mbasic\u001b[0m\u001b[0;34m,\u001b[0m \u001b[0mgdata\u001b[0m\u001b[0;34m,\u001b[0m \u001b[0msize\u001b[0m\u001b[0;34m,\u001b[0m \u001b[0mcallback\u001b[0m\u001b[0;34m,\u001b[0m \u001b[0mydl_opts\u001b[0m\u001b[0;34m=\u001b[0m\u001b[0mydl_opts\u001b[0m\u001b[0;34m)\u001b[0m\u001b[0;34m\u001b[0m\u001b[0;34m\u001b[0m\u001b[0m\n\u001b[0m\u001b[1;32m    125\u001b[0m \u001b[0;34m\u001b[0m\u001b[0m\n\u001b[1;32m    126\u001b[0m \u001b[0;34m\u001b[0m\u001b[0m\n",
      "\u001b[0;32m~/opt/anaconda3/lib/python3.8/site-packages/pafy/backend_youtube_dl.py\u001b[0m in \u001b[0;36m__init__\u001b[0;34m(self, *args, **kwargs)\u001b[0m\n\u001b[1;32m     29\u001b[0m         \u001b[0;32mif\u001b[0m \u001b[0mydl_opts\u001b[0m\u001b[0;34m:\u001b[0m\u001b[0;34m\u001b[0m\u001b[0;34m\u001b[0m\u001b[0m\n\u001b[1;32m     30\u001b[0m             \u001b[0mself\u001b[0m\u001b[0;34m.\u001b[0m\u001b[0m_ydl_opts\u001b[0m\u001b[0;34m.\u001b[0m\u001b[0mupdate\u001b[0m\u001b[0;34m(\u001b[0m\u001b[0mydl_opts\u001b[0m\u001b[0;34m)\u001b[0m\u001b[0;34m\u001b[0m\u001b[0;34m\u001b[0m\u001b[0m\n\u001b[0;32m---> 31\u001b[0;31m         \u001b[0msuper\u001b[0m\u001b[0;34m(\u001b[0m\u001b[0mYtdlPafy\u001b[0m\u001b[0;34m,\u001b[0m \u001b[0mself\u001b[0m\u001b[0;34m)\u001b[0m\u001b[0;34m.\u001b[0m\u001b[0m__init__\u001b[0m\u001b[0;34m(\u001b[0m\u001b[0;34m*\u001b[0m\u001b[0margs\u001b[0m\u001b[0;34m,\u001b[0m \u001b[0;34m**\u001b[0m\u001b[0mkwargs\u001b[0m\u001b[0;34m)\u001b[0m\u001b[0;34m\u001b[0m\u001b[0;34m\u001b[0m\u001b[0m\n\u001b[0m\u001b[1;32m     32\u001b[0m \u001b[0;34m\u001b[0m\u001b[0m\n\u001b[1;32m     33\u001b[0m     \u001b[0;32mdef\u001b[0m \u001b[0m_fetch_basic\u001b[0m\u001b[0;34m(\u001b[0m\u001b[0mself\u001b[0m\u001b[0;34m)\u001b[0m\u001b[0;34m:\u001b[0m\u001b[0;34m\u001b[0m\u001b[0;34m\u001b[0m\u001b[0m\n",
      "\u001b[0;32m~/opt/anaconda3/lib/python3.8/site-packages/pafy/backend_shared.py\u001b[0m in \u001b[0;36m__init__\u001b[0;34m(self, video_url, basic, gdata, size, callback, ydl_opts)\u001b[0m\n\u001b[1;32m     95\u001b[0m \u001b[0;34m\u001b[0m\u001b[0m\n\u001b[1;32m     96\u001b[0m         \u001b[0;32mif\u001b[0m \u001b[0mbasic\u001b[0m\u001b[0;34m:\u001b[0m\u001b[0;34m\u001b[0m\u001b[0;34m\u001b[0m\u001b[0m\n\u001b[0;32m---> 97\u001b[0;31m             \u001b[0mself\u001b[0m\u001b[0;34m.\u001b[0m\u001b[0m_fetch_basic\u001b[0m\u001b[0;34m(\u001b[0m\u001b[0;34m)\u001b[0m\u001b[0;34m\u001b[0m\u001b[0;34m\u001b[0m\u001b[0m\n\u001b[0m\u001b[1;32m     98\u001b[0m \u001b[0;34m\u001b[0m\u001b[0m\n\u001b[1;32m     99\u001b[0m         \u001b[0;32mif\u001b[0m \u001b[0mgdata\u001b[0m\u001b[0;34m:\u001b[0m\u001b[0;34m\u001b[0m\u001b[0;34m\u001b[0m\u001b[0m\n",
      "\u001b[0;32m~/opt/anaconda3/lib/python3.8/site-packages/pafy/backend_youtube_dl.py\u001b[0m in \u001b[0;36m_fetch_basic\u001b[0;34m(self)\u001b[0m\n\u001b[1;32m     52\u001b[0m         \u001b[0mself\u001b[0m\u001b[0;34m.\u001b[0m\u001b[0m_viewcount\u001b[0m \u001b[0;34m=\u001b[0m \u001b[0mself\u001b[0m\u001b[0;34m.\u001b[0m\u001b[0m_ydl_info\u001b[0m\u001b[0;34m[\u001b[0m\u001b[0;34m'view_count'\u001b[0m\u001b[0;34m]\u001b[0m\u001b[0;34m\u001b[0m\u001b[0;34m\u001b[0m\u001b[0m\n\u001b[1;32m     53\u001b[0m         \u001b[0mself\u001b[0m\u001b[0;34m.\u001b[0m\u001b[0m_likes\u001b[0m \u001b[0;34m=\u001b[0m \u001b[0mself\u001b[0m\u001b[0;34m.\u001b[0m\u001b[0m_ydl_info\u001b[0m\u001b[0;34m[\u001b[0m\u001b[0;34m'like_count'\u001b[0m\u001b[0;34m]\u001b[0m\u001b[0;34m\u001b[0m\u001b[0;34m\u001b[0m\u001b[0m\n\u001b[0;32m---> 54\u001b[0;31m         \u001b[0mself\u001b[0m\u001b[0;34m.\u001b[0m\u001b[0m_dislikes\u001b[0m \u001b[0;34m=\u001b[0m \u001b[0mself\u001b[0m\u001b[0;34m.\u001b[0m\u001b[0m_ydl_info\u001b[0m\u001b[0;34m[\u001b[0m\u001b[0;34m'dislike_count'\u001b[0m\u001b[0;34m]\u001b[0m\u001b[0;34m\u001b[0m\u001b[0;34m\u001b[0m\u001b[0m\n\u001b[0m\u001b[1;32m     55\u001b[0m         \u001b[0mself\u001b[0m\u001b[0;34m.\u001b[0m\u001b[0m_username\u001b[0m \u001b[0;34m=\u001b[0m \u001b[0mself\u001b[0m\u001b[0;34m.\u001b[0m\u001b[0m_ydl_info\u001b[0m\u001b[0;34m[\u001b[0m\u001b[0;34m'uploader_id'\u001b[0m\u001b[0;34m]\u001b[0m\u001b[0;34m\u001b[0m\u001b[0;34m\u001b[0m\u001b[0m\n\u001b[1;32m     56\u001b[0m         \u001b[0mself\u001b[0m\u001b[0;34m.\u001b[0m\u001b[0m_category\u001b[0m \u001b[0;34m=\u001b[0m \u001b[0mself\u001b[0m\u001b[0;34m.\u001b[0m\u001b[0m_ydl_info\u001b[0m\u001b[0;34m[\u001b[0m\u001b[0;34m'categories'\u001b[0m\u001b[0;34m]\u001b[0m\u001b[0;34m[\u001b[0m\u001b[0;36m0\u001b[0m\u001b[0;34m]\u001b[0m \u001b[0;32mif\u001b[0m \u001b[0mself\u001b[0m\u001b[0;34m.\u001b[0m\u001b[0m_ydl_info\u001b[0m\u001b[0;34m[\u001b[0m\u001b[0;34m'categories'\u001b[0m\u001b[0;34m]\u001b[0m \u001b[0;32melse\u001b[0m \u001b[0;34m''\u001b[0m\u001b[0;34m\u001b[0m\u001b[0;34m\u001b[0m\u001b[0m\n",
      "\u001b[0;31mKeyError\u001b[0m: 'dislike_count'"
     ]
    }
   ],
   "source": [
    "# Creating The Output directories if it does not exist\n",
    "output_directory = 'Youtube_Videos'\n",
    "os.makedirs(output_directory, exist_ok = True)\n",
    "\n",
    "# Downloading a YouTube Video\n",
    "video_title = download_youtube_videos('https://www.youtube.com/watch?v=8u0qjmHIOcE', output_directory)\n",
    "\n",
    "# Getting the YouTube Video's path you just downloaded\n",
    "input_video_file_path = f'{output_directory}/{video_title}.mp4'\n",
    "\n",
    "input_video_file_path = '/Users/nathansimms/Documents/cmpt419/pepper_data/clapping/Movie on 2022-04-06 at 3.12 PM.mov'"
   ]
  },
  {
   "cell_type": "code",
   "execution_count": 25,
   "metadata": {},
   "outputs": [],
   "source": [
    "# Creating The Output directories if it does not exist\n",
    "output_directory = '/Users/nathansimms/Documents/cmpt419/pepper_data/clapping'\n",
    "os.makedirs(output_directory, exist_ok = True)\n",
    "\n",
    "# Downloading a YouTube Video\n",
    "video_title = 'clapping1'\n",
    "\n",
    "# Getting the YouTube Video's path you just downloaded\n",
    "input_video_file_path = f'{output_directory}/{video_title}.mp4'\n",
    "\n",
    "# input_video_file_path = '/Users/nathansimms/Documents/cmpt419/pepper_data/clapping/Movie on 2022-04-06 at 3.12 PM.mov'"
   ]
  },
  {
   "cell_type": "markdown",
   "metadata": {
    "id": "RcWG5ieH14uG"
   },
   "source": [
    "#### **Results Without Using Moving Average:**\n",
    "First let's see the results when we're not using moving average, we can do this by setting the `window_size` to `1`."
   ]
  },
  {
   "cell_type": "code",
   "execution_count": 27,
   "metadata": {
    "colab": {
     "background_save": true
    },
    "id": "li-Wle0LXFvM",
    "outputId": "c394aa55-e7ce-4edc-accc-47cdd4af10cf"
   },
   "outputs": [
    {
     "name": "stderr",
     "output_type": "stream",
     "text": [
      "                                                  "
     ]
    },
    {
     "name": "stdout",
     "output_type": "stream",
     "text": [
      "Moviepy - Building video __temp__.mp4.\n",
      "Moviepy - Writing video __temp__.mp4\n",
      "\n",
      "Moviepy - Done !\n",
      "Moviepy - video ready __temp__.mp4\n"
     ]
    },
    {
     "name": "stderr",
     "output_type": "stream",
     "text": [
      "\r"
     ]
    },
    {
     "data": {
      "text/html": [
       "<div align=middle><video width='700'src='data:video/mp4;base64,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' controls>Sorry, seems like your browser doesn't support HTML5 audio/video</video></div>"
      ],
      "text/plain": [
       "<moviepy.video.io.html_tools.HTML2 object>"
      ]
     },
     "execution_count": 27,
     "metadata": {},
     "output_type": "execute_result"
    }
   ],
   "source": [
    "# Setting sthe Widow Size which will be used by the Rolling Averge Proces\n",
    "window_size = 1\n",
    "# Construting The Output YouTube Video Path\n",
    "output_video_file_path = f'{output_directory}/{video_title}.mov'\n",
    "\n",
    "# Calling the predict_on_live_video method to start the Prediction.\n",
    "predict_on_live_video(input_video_file_path, output_video_file_path, window_size)\n",
    "\n",
    "# Play Video File in the Notebook\n",
    "VideoFileClip(output_video_file_path).ipython_display(width = 700)"
   ]
  },
  {
   "cell_type": "code",
   "execution_count": null,
   "metadata": {},
   "outputs": [],
   "source": []
  },
  {
   "cell_type": "markdown",
   "metadata": {
    "id": "RUDYU1d_2Mmw"
   },
   "source": [
    "#### **Results When Using Moving Average:**\n",
    "Now let's use moving average with a window size of `25`."
   ]
  },
  {
   "cell_type": "code",
   "execution_count": 28,
   "metadata": {
    "colab": {
     "background_save": true
    },
    "id": "FJNuSCCSYNem",
    "outputId": "30cf02b6-8a4c-47c4-8faa-2d11bcf09342"
   },
   "outputs": [
    {
     "name": "stderr",
     "output_type": "stream",
     "text": [
      "                                                  "
     ]
    },
    {
     "name": "stdout",
     "output_type": "stream",
     "text": [
      "Moviepy - Building video __temp__.mp4.\n",
      "Moviepy - Writing video __temp__.mp4\n",
      "\n",
      "Moviepy - Done !\n",
      "Moviepy - video ready __temp__.mp4\n"
     ]
    },
    {
     "name": "stderr",
     "output_type": "stream",
     "text": [
      "\r"
     ]
    },
    {
     "data": {
      "text/html": [
       "<div align=middle><video width='700'src='data:video/mp4;base64,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' controls>Sorry, seems like your browser doesn't support HTML5 audio/video</video></div>"
      ],
      "text/plain": [
       "<moviepy.video.io.html_tools.HTML2 object>"
      ]
     },
     "execution_count": 28,
     "metadata": {},
     "output_type": "execute_result"
    }
   ],
   "source": [
    "# Setting the Widow Size which will be used by the Rolling Averge Process\n",
    "window_size = 25\n",
    "\n",
    "# Construting The Output YouTube Video Path\n",
    "output_video_file_path = f'{output_directory}/{video_title} -Output-WSize {window_size}.mp4'\n",
    "\n",
    "# Calling the predict_on_live_video method to start the Prediction and Rolling Averge Process\n",
    "predict_on_live_video(input_video_file_path, output_video_file_path, window_size)\n",
    "\n",
    "# Play Video File in the Notebook\n",
    "VideoFileClip(output_video_file_path).ipython_display(width = 700)"
   ]
  },
  {
   "cell_type": "markdown",
   "metadata": {
    "id": "8bLbeOCr4Vxw"
   },
   "source": [
    "Although the results, are not perfect but you can clearly see that it's much better than the previous approach of predicting on each frame independently."
   ]
  },
  {
   "cell_type": "markdown",
   "metadata": {
    "id": "hhXaIAsz2noW"
   },
   "source": [
    "## **Step 9: Using Single-Frame CNN Method:**\n",
    "Now let's create a function that will output a singular prediction for the complete video, now this function will take `n` frames from the entire video and make predictions. In the end, it will average the predictions of those <code>n</code> frames to give you the final activity class for that video. You can set the value of <code>n</code> using the <code>predictions_frames_count</code> variable.\n",
    "\n",
    "This function is useful when you have a video containing one activity and you want to know the activity's name and its score.\n"
   ]
  },
  {
   "cell_type": "code",
   "execution_count": null,
   "metadata": {
    "colab": {
     "background_save": true
    },
    "id": "ZeILwGThYL4Y"
   },
   "outputs": [],
   "source": [
    "def make_average_predictions(video_file_path, predictions_frames_count):\n",
    "    \n",
    "    # Initializing the Numpy array which will store Prediction Probabilities\n",
    "    predicted_labels_probabilities_np = np.zeros((predictions_frames_count, model_output_size), dtype = np.float)\n",
    "\n",
    "    # Reading the Video File using the VideoCapture Object\n",
    "    video_reader = cv2.VideoCapture(video_file_path)\n",
    "\n",
    "    # Getting The Total Frames present in the video \n",
    "    video_frames_count = int(video_reader.get(cv2.CAP_PROP_FRAME_COUNT))\n",
    "\n",
    "    # Calculating The Number of Frames to skip Before reading a frame\n",
    "    skip_frames_window = video_frames_count // predictions_frames_count\n",
    "\n",
    "    for frame_counter in range(predictions_frames_count): \n",
    "\n",
    "        # Setting Frame Position\n",
    "        video_reader.set(cv2.CAP_PROP_POS_FRAMES, frame_counter * skip_frames_window)\n",
    "\n",
    "        # Reading The Frame\n",
    "        _ , frame = video_reader.read() \n",
    "\n",
    "        # Resize the Frame to fixed Dimensions\n",
    "        resized_frame = cv2.resize(frame, (image_height, image_width))\n",
    "        \n",
    "        # Normalize the resized frame by dividing it with 255 so that each pixel value then lies between 0 and 1\n",
    "        normalized_frame = resized_frame / 255\n",
    "\n",
    "        # Passing the Image Normalized Frame to the model and receiving Predicted Probabilities.\n",
    "        predicted_labels_probabilities = model.predict(np.expand_dims(normalized_frame, axis = 0))[0]\n",
    "\n",
    "        # Appending predicted label probabilities to the deque object\n",
    "        predicted_labels_probabilities_np[frame_counter] = predicted_labels_probabilities\n",
    "\n",
    "    # Calculating Average of Predicted Labels Probabilities Column Wise \n",
    "    predicted_labels_probabilities_averaged = predicted_labels_probabilities_np.mean(axis = 0)\n",
    "\n",
    "    # Sorting the Averaged Predicted Labels Probabilities\n",
    "    predicted_labels_probabilities_averaged_sorted_indexes = np.argsort(predicted_labels_probabilities_averaged)[::-1]\n",
    "\n",
    "    # Iterating Over All Averaged Predicted Label Probabilities\n",
    "    for predicted_label in predicted_labels_probabilities_averaged_sorted_indexes:\n",
    "\n",
    "        # Accessing The Class Name using predicted label.\n",
    "        predicted_class_name = classes_list[predicted_label]\n",
    "\n",
    "        # Accessing The Averaged Probability using predicted label.\n",
    "        predicted_probability = predicted_labels_probabilities_averaged[predicted_label]\n",
    "\n",
    "        print(f\"CLASS NAME: {predicted_class_name}   AVERAGED PROBABILITY: {(predicted_probability*100):.2}\")\n",
    "    \n",
    "    # Closing the VideoCapture Object and releasing all resources held by it. \n",
    "    video_reader.release()"
   ]
  },
  {
   "cell_type": "markdown",
   "metadata": {
    "id": "SjW5d_Gk5x06"
   },
   "source": [
    "#### **Test Average Prediction Method On Youtube Videos:**"
   ]
  },
  {
   "cell_type": "code",
   "execution_count": null,
   "metadata": {
    "colab": {
     "background_save": true
    },
    "id": "doQLT8kKQA_e",
    "outputId": "dcdf12fd-018f-4916-b1de-a54b583cf79a"
   },
   "outputs": [],
   "source": [
    "# Downloading The YouTube Video\n",
    "video_title = download_youtube_videos('https://www.youtube.com/watch?v=ceRjxW4MpOY', output_directory)\n",
    "\n",
    "# Construting The Input YouTube Video Path\n",
    "input_video_file_path = f'{output_directory}/{video_title}.mp4'\n",
    "\n",
    "# Calling The Make Average Method To Start The Process\n",
    "make_average_predictions(input_video_file_path, 50)\n",
    "\n",
    "# Play Video File in the Notebook\n",
    "VideoFileClip(input_video_file_path).ipython_display(width = 700)"
   ]
  },
  {
   "cell_type": "code",
   "execution_count": null,
   "metadata": {
    "id": "4es-fLNWQnHR"
   },
   "outputs": [],
   "source": [
    "# Downloading The YouTube Video\n",
    "video_title = download_youtube_videos('https://www.youtube.com/watch?v=ayI-e3cJM-0', output_directory)\n",
    "\n",
    "# Construting The Input YouTube Video Path\n",
    "input_video_file_path = f'{output_directory}/{video_title}.mp4'\n",
    "\n",
    "# Calling The Make Average Method To Start The Process\n",
    "make_average_predictions(input_video_file_path, 50)\n",
    "\n",
    "# Play Video File in the Notebook\n",
    "VideoFileClip(input_video_file_path).ipython_display(width = 700)"
   ]
  },
  {
   "cell_type": "code",
   "execution_count": null,
   "metadata": {
    "id": "k8E6mN9eQmzp"
   },
   "outputs": [],
   "source": [
    "# Downloading The YouTube Video\n",
    "video_title = download_youtube_videos('https://www.youtube.com/watch?v=XqqpZS0c1K0', output_directory)\n",
    "\n",
    "# Construting The Input YouTube Video Path\n",
    "input_video_file_path = f'{output_directory}/{video_title}.mp4'\n",
    "\n",
    "# Calling The Make Average Method To Start The Process\n",
    "make_average_predictions(input_video_file_path, 50)\n",
    "\n",
    "# Play Video File in the Notebook\n",
    "VideoFileClip(input_video_file_path).ipython_display(width = 700)"
   ]
  },
  {
   "cell_type": "code",
   "execution_count": null,
   "metadata": {
    "id": "_P7pZkL_Qmas"
   },
   "outputs": [],
   "source": [
    "# Downloading The YouTube Video\n",
    "video_title = download_youtube_videos('https://www.youtube.com/watch?v=WHBu6iePxKc', output_directory)\n",
    "\n",
    "# Construting The Input YouTube Video Path\n",
    "input_video_file_path = f'{output_directory}/{video_title}.mp4'\n",
    "\n",
    "# Calling The Make Average Method To Start The Process\n",
    "make_average_predictions(input_video_file_path, 50)\n",
    "\n",
    "# Play Video File in the Notebook\n",
    "VideoFileClip(input_video_file_path).ipython_display(width = 700)"
   ]
  }
 ],
 "metadata": {
  "accelerator": "GPU",
  "colab": {
   "collapsed_sections": [],
   "name": "Introduction to Video Classification & Human Activity Recognition.ipynb",
   "provenance": []
  },
  "kernelspec": {
   "display_name": "Python 3",
   "language": "python",
   "name": "python3"
  },
  "language_info": {
   "codemirror_mode": {
    "name": "ipython",
    "version": 3
   },
   "file_extension": ".py",
   "mimetype": "text/x-python",
   "name": "python",
   "nbconvert_exporter": "python",
   "pygments_lexer": "ipython3",
   "version": "3.8.8"
  }
 },
 "nbformat": 4,
 "nbformat_minor": 1
}
