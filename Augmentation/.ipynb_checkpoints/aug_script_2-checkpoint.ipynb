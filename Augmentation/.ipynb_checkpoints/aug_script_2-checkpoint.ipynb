{
 "cells": [
  {
   "cell_type": "markdown",
   "metadata": {
    "pycharm": {
     "metadata": false,
     "name": "#%%\n"
    }
   },
   "source": [
    "## Script for data Augmentation "
   ]
  },
  {
   "cell_type": "code",
   "execution_count": 1,
   "metadata": {
    "pycharm": {
     "is_executing": false
    }
   },
   "outputs": [],
   "source": [
    "from PIL import Image, ImageSequence\n",
    "import os\n",
    "import vidaug.augmentors as va"
   ]
  },
  {
   "cell_type": "code",
   "execution_count": 2,
   "metadata": {
    "pycharm": {
     "is_executing": false,
     "metadata": false,
     "name": "#%%\n"
    }
   },
   "outputs": [],
   "source": [
    "def gif_loader(path, modality=\"RGB\"):\n",
    "    frames = []\n",
    "    with open(path, 'rb') as f:\n",
    "        with Image.open(f) as video:\n",
    "            index = 1\n",
    "            for frame in ImageSequence.Iterator(video):\n",
    "                frames.append(frame.convert(modality))\n",
    "                index += 1\n",
    "        return frames\n",
    "filePath = \"../videos/OG_gif\" # all input files should be in this directory\n",
    "\n",
    "savePath = \"../videos/aug_gif/\""
   ]
  },
  {
   "cell_type": "code",
   "execution_count": 25,
   "metadata": {
    "pycharm": {
     "is_executing": false,
     "metadata": false,
     "name": "#%%\n"
    }
   },
   "outputs": [
    {
     "name": "stdout",
     "output_type": "stream",
     "text": [
      "DEBUG:========STARTED: mind_blown\n",
      "working on ../videos/OG_gif/mind_blown/VID_20220408_154441.gif\n",
      "working on ../videos/OG_gif/mind_blown/VID_20220408_154327.gif\n",
      "working on ../videos/OG_gif/mind_blown/VID_20220408_151259.gif\n",
      "working on ../videos/OG_gif/mind_blown/VID_20220408_154418.gif\n",
      "working on ../videos/OG_gif/mind_blown/VID_20220408_154355.gif\n",
      "working on ../videos/OG_gif/mind_blown/VID_20220408_154549.gif\n",
      "working on ../videos/OG_gif/mind_blown/VID_20220408_151240.gif\n",
      "working on ../videos/OG_gif/mind_blown/VID_20220408_154504.gif\n",
      "DEBUG:========STARTED: kisses\n",
      "working on ../videos/OG_gif/kisses/VID_20220408_151316.gif\n",
      "working on ../videos/OG_gif/kisses/VID_20220408_154730.gif\n",
      "working on ../videos/OG_gif/kisses/VID_20220408_154719.gif\n",
      "working on ../videos/OG_gif/kisses/VID_20220408_154646.gif\n",
      "working on ../videos/OG_gif/kisses/VID_20220408_154800.gif\n",
      "working on ../videos/OG_gif/kisses/VID_20220408_154746.gif\n",
      "working on ../videos/OG_gif/kisses/VID_20220408_154703.gif\n",
      "working on ../videos/OG_gif/kisses/VID_20220408_151333.gif\n",
      "DEBUG:========STARTED: boogie\n",
      "working on ../videos/OG_gif/boogie/VID_20220408_154907.gif\n",
      "working on ../videos/OG_gif/boogie/VID_20220408_151349.gif\n",
      "working on ../videos/OG_gif/boogie/VID_20220408_151417.gif\n",
      "working on ../videos/OG_gif/boogie/VID_20220408_154821.gif\n",
      "working on ../videos/OG_gif/boogie/VID_20220408_154837.gif\n",
      "working on ../videos/OG_gif/boogie/VID_20220408_154850.gif\n",
      "working on ../videos/OG_gif/boogie/VID_20220408_154933.gif\n",
      "working on ../videos/OG_gif/boogie/VID_20220408_154920.gif\n",
      "DEBUG:========STARTED: clap\n",
      "working on ../videos/OG_gif/clap/VID_20220408_152232.gif\n",
      "working on ../videos/OG_gif/clap/VID_20220408_152154.gif\n",
      "working on ../videos/OG_gif/clap/VID_20220408_152035.gif\n",
      "working on ../videos/OG_gif/clap/VID_20220408_151215.gif\n",
      "working on ../videos/OG_gif/clap/VID_20220408_152127.gif\n",
      "working on ../videos/OG_gif/clap/VID_20220408_151204.gif\n",
      "working on ../videos/OG_gif/clap/VID_20220408_152056.gif\n",
      "working on ../videos/OG_gif/clap/VID_20220408_152613.gif\n",
      "DEBUG:========STARTED: wave\n",
      "working on ../videos/OG_gif/wave/VID_20220408_152019.gif\n",
      "working on ../videos/OG_gif/wave/VID_20220408_151920.gif\n",
      "working on ../videos/OG_gif/wave/VID_20220408_151933.gif\n",
      "working on ../videos/OG_gif/wave/VID_20220408_151148.gif\n",
      "working on ../videos/OG_gif/wave/VID_20220408_151945.gif\n",
      "working on ../videos/OG_gif/wave/VID_20220408_152007.gif\n",
      "working on ../videos/OG_gif/wave/VID_20220408_151906.gif\n",
      "working on ../videos/OG_gif/wave/VID_20220408_151127.gif\n"
     ]
    }
   ],
   "source": [
    "files = os.listdir(filePath)\n",
    "for f in files:\n",
    "   # print(f)\n",
    "    if '.' not in f:\n",
    "        subfiles = os.listdir(filePath+\"/\"+f)\n",
    "        print(\"DEBUG:========STARTED: \" + f)\n",
    "        for sf in subfiles:\n",
    "            if sf.endswith('.gif'):\n",
    "                fileName_clean = sf.removesuffix('.gif')\n",
    "                print(\"working on \" + filePath+'/'+f+'/'+sf)\n",
    "                frames = gif_loader(filePath+'/'+f+'/'+sf)\n",
    "        ###################\n",
    "                sometimes = lambda aug: va.Sometimes(1, aug) # Used to apply augmentor with 100% probability\n",
    "                seq = va.Sequential([sometimes(va.HorizontalFlip()) ])\n",
    "                #augment the frames\n",
    "                video_aug = seq(frames)\n",
    "                # save augmentad frames as gif \n",
    "                #print(\"DEBUG: \"+savePath+f+'/'+fileName_clean+\"_H_flip.gif\")\n",
    "                video_aug[0].save(savePath+f+'/'+fileName_clean+\"_H_flip.gif\", save_all=True, append_images=video_aug[1:], duration=100, loop=0)\n",
    "\n",
    "        ###################\n",
    "                sometimes = lambda aug: va.Sometimes(1, aug) # Used to apply augmentor with 100% probability\n",
    "                seq = va.Sequential([sometimes(va.InvertColor())])\n",
    "                #augment the frames\n",
    "                video_aug = seq(frames)\n",
    "                # save augmentad frames as gif \n",
    "                video_aug[0].save(savePath+f+'/'+fileName_clean+\"_InvertColor.gif\", save_all=True, append_images=video_aug[1:], duration=100, loop=0)\n",
    "                \n",
    "        ###################\n",
    "                sometimes = lambda aug: va.Sometimes(1, aug) # Used to apply augmentor with 100% probability\n",
    "                seq = va.Sequential([sometimes(va.RandomRotate(180))])\n",
    "                #augment the frames\n",
    "                video_aug = seq(frames)\n",
    "                # save augmentad frames as gif \n",
    "                video_aug[0].save(savePath+f+'/'+fileName_clean+\"_RandomRotate1.gif\", save_all=True, append_images=video_aug[1:], duration=100, loop=0)\n",
    "\n",
    "\n",
    "        ###################\n",
    "                sometimes = lambda aug: va.Sometimes(1, aug) # Used to apply augmentor with 100% probability\n",
    "                seq = va.Sequential([sometimes(va.RandomRotate(180))])\n",
    "                #augment the frames\n",
    "                video_aug = seq(frames)\n",
    "                # save augmentad frames as gif \n",
    "                video_aug[0].save(savePath+f+'/'+fileName_clean+\"_RandomRotate2.gif\", save_all=True, append_images=video_aug[1:], duration=100, loop=0)\n",
    "\n",
    "\n",
    "\n",
    "        ###################\n",
    "                sometimes = lambda aug: va.Sometimes(1, aug) # Used to apply augmentor with 100% probability\n",
    "                seq = va.Sequential([sometimes(va.VerticalFlip())])\n",
    "                #augment the frames\n",
    "                video_aug = seq(frames)\n",
    "                # save augmentad frames as gif \n",
    "                video_aug[0].save(savePath+f+'/'+fileName_clean+\"_VerticalFlip.gif\", save_all=True, append_images=video_aug[1:], duration=100, loop=0)\n",
    "\n",
    "\n",
    "        ###################\n",
    "                sometimes = lambda aug: va.Sometimes(1, aug) # Used to apply augmentor with 100% probability\n",
    "                seq = va.Sequential([sometimes(va.Downsample(0.5))])\n",
    "                #augment the frames\n",
    "                video_aug = seq(frames)\n",
    "                # save augmentad frames as gif \n",
    "                video_aug[0].save(savePath+f+'/'+fileName_clean+\"_Downsample.gif\", save_all=True, append_images=video_aug[1:], duration=100, loop=0)\n",
    "\n",
    "\n",
    "        ###################\n",
    "                sometimes = lambda aug: va.Sometimes(1, aug) # Used to apply augmentor with 100% probability\n",
    "                seq = va.Sequential([sometimes(va.Upsample(1.5))])\n",
    "                #augment the frames\n",
    "                video_aug = seq(frames)\n",
    "                # save augmentad frames as gif \n",
    "                video_aug[0].save(savePath+f+'/'+fileName_clean+\"_Upsample.gif\", save_all=True, append_images=video_aug[1:], duration=100, loop=0)\n",
    "\n",
    "\n",
    "        ###################\n",
    "                sometimes = lambda aug: va.Sometimes(1, aug) # Used to apply augmentor with 100% probability\n",
    "                seq = va.Sequential([sometimes(va.Pepper(50))])\n",
    "                #augment the frames\n",
    "                video_aug = seq(frames)\n",
    "                # save augmentad frames as gif \n",
    "                video_aug[0].save(savePath+f+'/'+fileName_clean+\"_pepper.gif\", save_all=True, append_images=video_aug[1:], duration=100, loop=0)\n",
    "\n",
    "\n",
    "        ###################\n",
    "                sometimes = lambda aug: va.Sometimes(1, aug) # Used to apply augmentor with 100% probability\n",
    "                seq = va.Sequential([sometimes(va.Add(50))])\n",
    "                #augment the frames\n",
    "                video_aug = seq(frames)\n",
    "                # save augmentad frames as gif \n",
    "                video_aug[0].save(savePath+f+'/'+fileName_clean+\"_add50.gif\", save_all=True, append_images=video_aug[1:], duration=100, loop=0)\n",
    "\n",
    "\n",
    "        ###################\n",
    "                sometimes = lambda aug: va.Sometimes(1, aug) # Used to apply augmentor with 100% probability\n",
    "                seq = va.Sequential([sometimes(va.Add(-50))])\n",
    "                #augment the frames\n",
    "                video_aug = seq(frames)\n",
    "                # save augmentad frames as gif \n",
    "                video_aug[0].save(savePath+f+'/'+fileName_clean+\"_minus50.gif\", save_all=True, append_images=video_aug[1:], duration=100, loop=0)\n",
    "\n",
    "\n"
   ]
  },
  {
   "cell_type": "code",
   "execution_count": null,
   "metadata": {},
   "outputs": [],
   "source": []
  }
 ],
 "metadata": {
  "kernelspec": {
   "display_name": "Python 3 (ipykernel)",
   "language": "python",
   "name": "python3"
  },
  "language_info": {
   "codemirror_mode": {
    "name": "ipython",
    "version": 3
   },
   "file_extension": ".py",
   "mimetype": "text/x-python",
   "name": "python",
   "nbconvert_exporter": "python",
   "pygments_lexer": "ipython3",
   "version": "3.9.7"
  },
  "stem_cell": {
   "cell_type": "raw",
   "metadata": {
    "pycharm": {
     "metadata": false
    }
   },
   "source": ""
  }
 },
 "nbformat": 4,
 "nbformat_minor": 1
}
